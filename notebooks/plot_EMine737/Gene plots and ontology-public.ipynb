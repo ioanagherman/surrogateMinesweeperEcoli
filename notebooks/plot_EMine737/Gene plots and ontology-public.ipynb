{
 "cells": [
  {
   "cell_type": "markdown",
   "id": "9fd4d49f",
   "metadata": {},
   "source": [
    "# Data cleaning\n"
   ]
  },
  {
   "cell_type": "code",
   "execution_count": null,
   "id": "42484634",
   "metadata": {},
   "outputs": [],
   "source": [
    "import pandas as pd\n",
    "import numpy as np\n",
    "import matplotlib.pyplot as plt"
   ]
  },
  {
   "cell_type": "code",
   "execution_count": null,
   "id": "103984ae-5b68-42a9-be6b-9b1fb5cdc373",
   "metadata": {},
   "outputs": [],
   "source": [
    "delted_minesweeper = ['ansP', 'cof', 'focA', 'gadB', 'epd', 'fabZ', 'nuoF', 'thiL', 'dmsA', 'folD', 'waaA', 'lysP', 'ybjE', 'mntH', 'tig', 'aqpZ', 'ompF', 'paaZ', \n",
    "                      'serC', 'deoC', 'uacT', 'nudJ', 'ihfB', 'oppC', 'tppB', 'acrB', 'menH', 'idnK', 'menD', 'allC', 'yfdE', 'glk', 'lpxP', 'add', 'nrdD', 'cpsB', \n",
    "                      'ybbO', 'glpC', 'cysG', 'maeA', 'baeR', 'cdd', 'galT', 'nanA', 'ompC', 'atoD', 'cadB', 'garL', 'mdfA', 'yieF', 'patD', 'rhaB', 'tdcD', 'mltC', \n",
    "                      'yjjG', 'allE', 'crr', 'xdhA', 'menB', 'speE', 'ackA', 'paaC', 'spr', 'preT', 'paaK', 'dcuA', 'fnr', 'hisJ', 'fieF', 'ansB', 'cysK', 'ycbL', \n",
    "                      'pgm', 'phnO', 'nuoL', 'azoR', 'visC', 'yggF', 'paaI', 'ycjU', 'epmB', 'rnb', 'exuT', 'nuoK', 'glnH', 'glcB', 'yneH', 'cdsA', 'lsrD', 'artM', \n",
    "                      'thiD', 'aidB', 'puuB', 'metH', 'msbA', 'gcl', 'waaQ', 'cyoD', 'livH', 'phoA', 'ytfG', 'nudB', 'nuoN', 'nudF', 'ygiF', 'pgk', 'frdB', 'lsrB', \n",
    "                      'entA', 'fbp', 'bglJ', 'gsiA', 'metK', 'adhE', 'idnD', 'plsC', 'entD', 'rcsB', 'amtB', 'yejA', 'preA', 'ulaE', 'mqo', 'aspC', 'zitB', 'potE', \n",
    "                      'wza', 'malZ', 'rnr', 'proB', 'ldhA', 'kch', 'mmuM', 'kbaY', 'araG', 'lptC', 'murQ', 'dhaL', 'mppA', 'nuoB', 'chaA', 'talA', 'oppB', 'fabA', \n",
    "                      'pitB', 'yejF', 'artQ', 'nuoA', 'trkG', 'speC', 'trpB', 'cyoC', 'thiI', 'aat', 'puuA', 'acpT', 'glcF', 'fadB', 'sstT', 'nagK', 'ahr', 'potG', \n",
    "                      'tolC', 'galE', 'gltK', 'potC', 'yegS', 'yjdL', 'clsA', 'nanM', 'lhgO', 'ilvG_2', 'accD', 'upp', 'treC', 'paaG', 'nupC', 'entC', 'lptE', 'ttdA',\n",
    "                      'ydjG', 'nuoE', 'glf', 'ybaS', 'dauA', 'fdnH', 'tdcC', 'lrhA', 'cydC', 'oppD', 'deoA', 'kdpC', 'oxc', 'puuE', 'uxuB', 'pabA', 'glcE', 'fdnG', \n",
    "                      'rdgB', 'pheP', 'dld', 'waaF', 'lpxH', 'gsiC', 'fdnI', 'waaU', 'paaA', 'glpA', 'yfaU', 'rbn', 'znuA', 'cyoB', 'rhaA', 'fadM', 'ubiG', 'acpH', \n",
    "                      'galP', 'msrA', 'rfaE', 'ttdB', 'lptF', 'ltaE', 'nanT', 'wcaJ', 'entE', 'uxaA', 'yjeH', 'rfbA', 'alaE', 'potH', 'lpxM', 'sgbU', 'gshB', 'rnlA', \n",
    "                      'rpiB', 'yjhH', 'ygfQ', 'fklB', 'tyrR', 'fbaA', 'frdA', 'sdaA', 'ribE', 'dnaA', 'folE', 'ispA', 'glxK', 'malP', 'ssuA', 'speB', 'yfaW', 'rcnA', \n",
    "                      'yliI', 'ppiA', 'nrdG', 'cycA', 'pepA', 'mdaB', 'wzc', 'gabP', 'dmsB', 'menE', 'apt', 'potB', 'yqhD', 'xylF', 'yddG', 'pgpA', 'yfdR', 'ybdL', \n",
    "                      'nanC', 'yejE', 'argR', 'fabI', 'fabB', 'xapA', 'metC', 'glxR', 'nrdB', 'waaZ', 'ycaO', 'glnQ', 'wzb', 'aspA', 'menF', 'hisQ', 'eptB', 'garR', \n",
    "                      'arnB', 'fadJ', 'aldA', 'folC', 'nudI', 'glcD', 'gatY', 'rfbD', 'yfbR', 'frdD', 'dkgA', 'deoB', 'paaF', 'yjeF', 'argI', 'cpdA', 'cyoA', 'galM', \n",
    "                      'frc', 'rpe', 'rhaT', 'dcd', 'fadI', 'nuoM', 'araF', 'kbaZ', 'gss', 'gsk', 'wbbI', 'nupG', 'kduD', 'ycjG', 'alaA', 'rrrD', 'fes', 'maa', 'acrA', \n",
    "                      'mnaT', 'pta', 'hisM', 'yejB', 'brnQ', 'lldP', 'serA', 'acnA', 'xapB', 'katE', 'lysU', 'ilvG_1', 'alsE', 'fadL', 'ribB', 'tnaB', 'ssuC', 'purU', \n",
    "                      'menC', 'ydbK', 'frdC', 'potI', 'ssuE', 'ulaD', 'xdhB', 'tdcG', 'allB', 'hyi', 'gntP', 'tsx', 'yjhG', 'gpmA', 'glnP', 'zupT', 'folX', 'arnA', \n",
    "                      'rihB', 'sgbE', 'uxuA', 'copA', 'cyoE', 'clsB', 'tdcB', 'paaJ', 'uxaC', 'gatZ', 'lipB', 'patA', 'nudK', 'paaE', 'udk', 'lsrF', 'ssuB', 'emrE', \n",
    "                      'nuoC', 'yrfG', 'miaA', 'potF', 'pgpB', 'panE', 'psuG', 'cmk', 'dsdA', 'ybiV', 'adhP', 'garK', 'dxs', 'artP', 'hisP', 'idnO', 'folB', 'mdoB', \n",
    "                      'glpB', 'ybcF', 'yghZ', 'ybjI', 'orn', 'puuC', 'ushA', 'mgtA', 'nudL', 'lpxB', 'nhoA', 'lrp', 'yfbT', 'tktA', 'rbsD', 'ribD', 'feoB', 'tesA', \n",
    "                      'ssuD', 'pepN', 'rfbC', 'proA', 'lpxT', 'nuoJ', 'pncB', 'nuoH', 'nanE', 'kdpB', 'glcA', 'lptB', 'cydD', 'mak', 'gsiB', 'waaC', 'proV', 'atoA', \n",
    "                      'fbaB', 'alaC', 'aceB', 'paaH', 'yeiG', 'nirC', 'alsB', 'gsiD', 'hchA', 'ybjG', 'rfbB', 'sad', 'ribA', 'feaB', 'yghA', 'lptG', 'kdsB', 'ghrB', \n",
    "                      'ppiB', 'mpaA', 'nirD', 'murJ', 'paaB', 'rna', 'nikA', 'yciA', 'puuD', 'setB', 'lpxK', 'artJ', 'nuoI', 'cpsG', 'mpl', 'nrdA', 'rhtA', 'atoB', \n",
    "                      'glpQ', 'ubiE', 'argP', 'oppF', 'ulaF', 'mdtM', 'argT', 'nuoG', 'cadA', 'pfkB', 'dmsC', 'poxB', 'puuP']"
   ]
  },
  {
   "cell_type": "code",
   "execution_count": null,
   "id": "67d1dbaa-7c22-4d93-87e6-316964ad3f2a",
   "metadata": {},
   "outputs": [],
   "source": [
    "len(delted_minesweeper)/1219"
   ]
  },
  {
   "cell_type": "code",
   "execution_count": null,
   "id": "a5be198f-8849-4bf1-a238-6f4d895afece",
   "metadata": {},
   "outputs": [],
   "source": [
    "all_genes_wcm = ['thrA', 'thrB', 'thrC', 'talB', 'yaaH', 'nhaA', 'rpsT', 'ribF', 'ileS', 'fkpB', 'ispH', 'rihC', 'dapB', 'carA', 'carB', 'kefF', 'kefC', 'folA', 'apaH', 'pdxA', 'surA', 'lptD', 'araD', 'araA', 'araB', 'araC', 'setA', 'leuD', 'leuC', 'leuB', 'leuA', 'leuO', 'ilvI', 'ilvH', 'murE', 'murF', 'mraY', 'murD', 'ftsW', 'murG', 'murC', 'ddlB', 'lpxC', 'coaE', 'guaC', 'nadC', 'aroP', 'aceE', 'aceF', 'lpd', 'acnB', 'speE', 'cueO', 'hpt', 'can', 'panC', 'panB', 'folK', 'hemL', 'clcA', 'mtn', 'dgt', 'dapD', 'rpsB', 'pyrH', 'dxr', 'ispU', 'cdsA', 'lpxD', 'fabZ', 'lpxA', 'lpxB', 'rnhB', 'accA', 'ldcC', 'tilS', 'proS', 'metQ', 'metI', 'metN', 'gmhB', 'dkgB', 'gloB', 'rnhA', 'fadE', 'lpcA', 'pepD', 'gpt', 'phoE', 'proB', 'proA', 'mmuM', 'yagE', 'yagF', 'argF', 'betA', 'betB', 'betT', 'yahK', 'prpB', 'prpC', 'prpD', 'prpE', 'codA', 'cynT', 'lacA', 'lacY', 'lacZ', 'mhpD', 'mhpF', 'mhpE', 'frmB', 'frmA', 'hemB', 'sbmA', 'ddlA', 'phoA', 'proC', 'aroL', 'mak', 'brnQ', 'malZ', 'acpH', 'tsx', 'ribD', 'ribE', 'thiL', 'pgpA', 'dxs', 'ispA', 'thiI', 'panE', 'cyoE', 'cyoD', 'cyoC', 'cyoB', 'cyoA', 'tig', 'fadM', 'cof', 'amtB', 'maa', 'acrB', 'acrA', 'apt', 'adk', 'gsk', 'ushA', 'copA', 'ybaS', 'ybbO', 'tesA', 'gcl', 'hyi', 'glxR', 'allB', 'glxK', 'allE', 'allC', 'ybcF', 'purK', 'purE', 'lpxH', 'ppiB', 'cysS', 'folD', 'emrE', 'rrrD', 'pheP', 'entD', 'fes', 'entC', 'entE', 'entA', 'ybdL', 'rna', 'citC', 'lipA', 'lipB', 'nadD', 'lptE', 'leuS', 'rihA', 'gltL', 'gltK', 'gltJ', 'gltI', 'miaB', 'ubiF', 'asnB', 'nagD', 'nagA', 'glnS', 'pgm', 'potE', 'speF', 'kdpC', 'kdpB', 'kdpA', 'kdpF', 'dtpD', 'gltA', 'sdhC', 'sdhD', 'sdhA', 'sdhB', 'sucA', 'sucB', 'sucC', 'sucD', 'cydA', 'cydB', 'ybgT', 'tolB', 'nadA', 'zitB', 'aroG', 'gpmA', 'galM', 'galK', 'galT', 'galE', 'ybhA', 'pgl', 'bioA', 'bioB', 'bioF', 'bioC', 'bioD', 'clsB', 'glnQ', 'glnP', 'glnH', 'rhtA', 'ybiV', 'gsiA', 'gsiB', 'gsiC', 'gsiD', 'yliI', 'ybjG', 'mdfA', 'ybjI', 'potF', 'potG', 'potH', 'potI', 'artJ', 'artM', 'artQ', 'artP', 'ltaE', 'poxB', 'ybjE', 'aqpZ', 'aat', 'cydC', 'cydD', 'trxB', 'lrp', 'serS', 'dmsA', 'dmsB', 'dmsC', 'focA', 'ycaO', 'serC', 'aroA', 'cmk', 'rpsA', 'ihfB', 'msbA', 'lpxK', 'kdsB', 'ycbL', 'aspC', 'ompF', 'asnS', 'pncB', 'pepN', 'ssuB', 'ssuC', 'ssuD', 'ssuA', 'ssuE', 'pyrD', 'fabA', 'mgsA', 'appC', 'appB', 'appA', 'etk', 'etp', 'wrbA', 'rutG', 'putA', 'putP', 'efeB', 'pgaB', 'ghrA', 'clsC', 'lpxL', 'pyrC', 'murJ', 'rne', 'rpmF', 'fabH', 'fabD', 'fabG', 'fabF', 'pabC', 'tmk', 'ptsG', 'ndh', 'nagK', 'potD', 'potC', 'potB', 'potA', 'purB', 'nudJ', 'icd', 'nhaB', 'dadA', 'dadX', 'emtA', 'dhaM', 'dhaL', 'dhaK', 'dauA', 'prs', 'ispE', 'hemA', 'prmC', 'kdsA', 'chaA', 'narL', 'narK', 'purU', 'hns', 'tdk', 'adhE', 'oppA', 'oppB', 'oppC', 'oppD', 'oppF', 'clsA', 'kch', 'yciA', 'trpA', 'trpB', 'trpC', 'trpD', 'trpE', 'acnA', 'ribA', 'pgpB', 'pyrF', 'rnb', 'fabI', 'puuP', 'puuA', 'puuD', 'puuC', 'puuB', 'puuE', 'ycjU', 'tyrR', 'ycjG', 'mpaA', 'mppA', 'fnr', 'trkG', 'ydbK', 'ldhA', 'feaB', 'paaZ', 'paaA', 'paaB', 'paaC', 'paaE', 'paaF', 'paaG', 'paaH', 'paaI', 'paaJ', 'paaK', 'azoR', 'aldA', 'patD', 'mnaT', 'ansP', 'nhoA', 'yddG', 'fdnG', 'fdnH', 'fdnI', 'adhP', 'maeA', 'sra', 'ddpX', 'gadC', 'gadB', 'lsrK', 'lsrA', 'lsrC', 'lsrD', 'lsrB', 'lsrF', 'lsrG', 'uxaB', 'yneH', 'sad', 'ydeA', 'eamA', 'ydfG', 'speG', 'mdtI', 'mdtJ', 'tqsA', 'pntB', 'pntA', 'folM', 'fumC', 'fumA', 'manA', 'hdhA', 'malY', 'add', 'tppB', 'pdxY', 'tyrS', 'pdxH', 'sodC', 'gloA', 'rnt', 'ribC', 'pykF', 'sufS', 'menI', 'ydiB', 'aroD', 'ydiF', 'ydiO', 'fadK', 'ppsA', 'aroH', 'btuE', 'ihfA', 'pheT', 'pheS', 'rplT', 'rpmI', 'thrS', 'pfkB', 'katE', 'nadE', 'astE', 'astB', 'astD', 'astA', 'astC', 'gdhA', 'ansA', 'pncA', 'ydjG', 'msrB', 'gapA', 'yeaE', 'yeaG', 'leuE', 'dmlA', 'rnd', 'fadD', 'pabB', 'nudL', 'sdaA', 'manX', 'manY', 'manZ', 'mntP', 'msrC', 'pphA', 'purT', 'eda', 'edd', 'zwf', 'pykA', 'lpxM', 'znuA', 'znuC', 'znuB', 'nudB', 'aspS', 'argS', 'cheR', 'otsA', 'otsB', 'araH', 'araG', 'araF', 'tyrP', 'pgsA', 'yecC', 'yecS', 'dcyD', 'fliY', 'hchA', 'amn', 'plaP', 'hisG', 'hisD', 'hisC', 'hisB', 'hisH', 'hisA', 'hisF', 'hisI', 'ugd', 'gnd', 'wbbI', 'glf', 'rfbC', 'rfbA', 'rfbD', 'rfbB', 'wcaJ', 'cpsG', 'cpsB', 'wzc', 'wzb', 'wza', 'dcd', 'udk', 'baeR', 'yegS', 'gatZ', 'gatY', 'fbaB', 'thiD', 'rcnA', 'metG', 'dld', 'cdd', 'preT', 'preA', 'folE', 'yeiG', 'lysP', 'rihB', 'psuG', 'setB', 'lpxT', 'spr', 'yejA', 'yejB', 'yejE', 'yejF', 'rplY', 'mqo', 'ompC', 'rcsB', 'atoD', 'atoA', 'atoB', 'ubiG', 'nrdA', 'nrdB', 'glpQ', 'glpA', 'glpB', 'glpC', 'yfaU', 'yfaW', 'nudI', 'arnB', 'arnA', 'menE', 'menC', 'menB', 'menH', 'menD', 'menF', 'rbn', 'nuoN', 'nuoM', 'nuoL', 'nuoK', 'nuoJ', 'nuoI', 'nuoH', 'nuoG', 'nuoF', 'nuoE', 'nuoC', 'nuoB', 'nuoA', 'lrhA', 'alaA', 'yfbR', 'yfbT', 'ackA', 'pta', 'folX', 'hisP', 'hisM', 'hisQ', 'hisJ', 'argT', 'purF', 'folC', 'accD', 'fabB', 'aroC', 'fadJ', 'fadI', 'fadL', 'yfdR', 'dsdA', 'yfdE', 'oxc', 'frc', 'lpxP', 'alaC', 'glk', 'mntH', 'nupC', 'gltX', 'xapB', 'xapA', 'cysK', 'crr', 'pdxK', 'cysM', 'cysA', 'cysW', 'cysU', 'cysP', 'murQ', 'yfeX', 'hemF', 'eutC', 'eutB', 'eutD', 'maeB', 'talA', 'tktB', 'nudK', 'dapE', 'purC', 'dapA', 'uraA', 'upp', 'purM', 'purN', 'ppk', 'guaA', 'guaB', 'hisS', 'ispG', 'ndk', 'pepB', 'iscS', 'glyA', 'purL', 'mltF', 'tadA', 'pgpC', 'acpS', 'pdxJ', 'rnc', 'nadB', 'eamB', 'pssA', 'pheA', 'tyrA', 'aroF', 'rplS', 'trmD', 'rpsP', 'nadK', 'rnlA', 'lhgO', 'gabD', 'gabT', 'gabP', 'alaE', 'nrdE', 'nrdF', 'proV', 'proW', 'proX', 'ygaZ', 'ygaH', 'luxS', 'gshA', 'alaS', 'pncC', 'mltB', 'srlD', 'gutQ', 'hypF', 'hycG', 'hycF', 'hycE', 'hycD', 'hycC', 'hycB', 'pphB', 'surE', 'truD', 'ispF', 'ispD', 'cysC', 'cysN', 'cysD', 'cysH', 'cysI', 'cysJ', 'eno', 'pyrG', 'mazG', 'relA', 'truC', 'sdaC', 'sdaB', 'fucO', 'fucA', 'fucP', 'fucI', 'fucK', 'fucU', 'csdA', 'tcdA', 'mltA', 'argA', 'thyA', 'aas', 'lysA', 'araE', 'kduD', 'xdhA', 'xdhB', 'xdhC', 'xanQ', 'guaD', 'ygfQ', 'uacT', 'idi', 'lysS', 'gcvP', 'gcvT', 'visC', 'ubiH', 'fau', 'serA', 'rpiA', 'argP', 'scpA', 'scpB', 'scpC', 'fbaA', 'pgk', 'epd', 'yggF', 'tktA', 'speB', 'metK', 'galP', 'gshB', 'rdgB', 'ansB', 'mltC', 'nupG', 'speC', 'glcA', 'glcB', 'glcF', 'glcE', 'glcD', 'pitB', 'gss', 'yghZ', 'yghA', 'metC', 'yqhD', 'dkgA', 'plsC', 'mdaB', 'cpdA', 'nudF', 'tolC', 'zupT', 'ribB', 'rfaE', 'ygiF', 'folB', 'ttdA', 'ttdB', 'rpsU', 'patA', 'sstT', 'uxaA', 'uxaC', 'exuT', 'tdcG', 'tdcD', 'tdcC', 'tdcB', 'garK', 'garR', 'garL', 'kbaZ', 'kbaY', 'rsmI', 'yhbO', 'mtr', 'pnp', 'rpsO', 'truB', 'argG', 'glmM', 'folP', 'rpmA', 'rplU', 'ispB', 'murA', 'kdsD', 'kdsC', 'lptC', 'lptA', 'lptB', 'gltB', 'gltD', 'nanK', 'nanE', 'nanT', 'nanA', 'rpsI', 'rplM', 'mdh', 'argR', 'rng', 'yhdE', 'yhdH', 'accC', 'fis', 'aroE', 'def', 'fmt', 'rplQ', 'rpoA', 'rpsD', 'rpsK', 'rpsM', 'rpmJ', 'rplO', 'rpmD', 'rpsE', 'rplR', 'rplF', 'rpsH', 'rpsN', 'rplE', 'rplX', 'rplN', 'rpsQ', 'rpmC', 'rplP', 'rpsC', 'rplV', 'rpsS', 'rplB', 'rplW', 'rplD', 'rplC', 'rpsJ', 'rpsG', 'rpsL', 'fkpA', 'slyD', 'kefB', 'crp', 'argD', 'pabA', 'ppiA', 'nirB', 'nirD', 'nirC', 'cysG', 'frlB', 'frlC', 'frlD', 'trpS', 'rpe', 'aroB', 'aroK', 'yrfG', 'pck', 'feoB', 'bioH', 'malQ', 'malP', 'glpE', 'glpD', 'glgC', 'asd', 'gntK', 'ugpQ', 'ugpC', 'ugpE', 'ugpA', 'ugpB', 'livF', 'livG', 'livM', 'livH', 'livK', 'livJ', 'zntA', 'acpT', 'nikA', 'nikB', 'nikC', 'nikD', 'nikE', 'pitA', 'dtpB', 'gor', 'arsB', 'arsC', 'gadA', 'treF', 'kdgK', 'dctA', 'dppF', 'dppD', 'dppC', 'dppB', 'dppA', 'eptB', 'bisC', 'ghrB', 'glyS', 'glyQ', 'xylB', 'xylA', 'xylF', 'xylG', 'xylH', 'avtA', 'yiaK', 'lyxK', 'sgbH', 'sgbU', 'sgbE', 'aldB', 'yiaY', 'mtlD', 'lldP', 'lldD', 'cysE', 'gpsA', 'gpmM', 'yibQ', 'tdh', 'kbl', 'rfaD', 'waaF', 'waaC', 'waaU', 'waaZ', 'waaY', 'waaJ', 'waaI', 'waaB', 'waaP', 'waaG', 'waaQ', 'waaA', 'coaD', 'rpmG', 'rpmB', 'dfp', 'dut', 'pyrE', 'rph', 'gmk', 'spoT', 'xanP', 'nepI', 'ade', 'ilvN', 'ilvB', 'dgoA', 'yidA', 'dnaA', 'rpmH', 'rnpA', 'tnaA', 'tnaB', 'yieF', 'bglF', 'pstB', 'pstA', 'pstC', 'pstS', 'glmS', 'glmU', 'atpC', 'atpD', 'atpG', 'atpA', 'atpH', 'atpF', 'atpE', 'atpB', 'asnA', 'kup', 'rbsD', 'rbsK', 'ilvG_1', 'ilvG_2', 'ilvM', 'ilvE', 'ilvD', 'ilvA', 'ilvC', 'ppiC', 'gpp', 'rhlB', 'rffE', 'rffG', 'rffH', 'rffA', 'hemD', 'hemC', 'cyaA', 'dapF', 'yigB', 'corA', 'rhtC', 'pldB', 'yigL', 'metE', 'udp', 'ubiE', 'ubiD', 'fre', 'fadA', 'fadB', 'trkH', 'hemG', 'rdoA', 'polA', 'hemN', 'glnA', 'yihS', 'yihU', 'yihV', 'yihX', 'fdoI', 'fdoH', 'fdoG', 'rhaM', 'rhaD', 'rhaA', 'rhaB', 'rhaT', 'fieF', 'pfkA', 'sbp', 'cdh', 'tpiA', 'fpr', 'glpX', 'glpK', 'glpF', 'menA', 'cytR', 'rpmE', 'metJ', 'metB', 'metL', 'metF', 'katG', 'yijE', 'gldA', 'ppc', 'argE', 'argC', 'argB', 'argH', 'sthA', 'murI', 'murB', 'birA', 'coaA', 'rplK', 'rplA', 'rplJ', 'rplL', 'rpoB', 'rpoC', 'thiH', 'thiG', 'thiF', 'thiE', 'thiC', 'hemE', 'purD', 'purH', 'metA', 'aceB', 'aceA', 'metH', 'yjbB', 'lysC', 'pgi', 'xylE', 'ubiC', 'ubiA', 'plsB', 'dgkA', 'lexA', 'qor', 'alr', 'tyrB', 'aphA', 'yjcD', 'acs', 'gltP', 'fdhF', 'alsK', 'alsE', 'alsC', 'alsA', 'alsB', 'rpiB', 'phnO', 'phnN', 'phnE_1', 'phnD', 'phnC', 'proP', 'basR', 'adiA', 'fumB', 'dcuB', 'dcuR', 'lysU', 'yjdL', 'cadA', 'cadB', 'dcuA', 'aspA', 'yjeH', 'epmB', 'frdD', 'frdC', 'frdB', 'frdA', 'orn', 'yjeF', 'miaA', 'purA', 'rnr', 'aidB', 'ulaD', 'ulaE', 'ulaF', 'rpsF', 'rpsR', 'rplI', 'fklB', 'cycA', 'ytfG', 'cysQ', 'msrA', 'ppa', 'fbp', 'mpl', 'nrdG', 'nrdD', 'treC', 'mgtA', 'pyrI', 'pyrB', 'argI', 'valS', 'pepA', 'lptF', 'lptG', 'idnO', 'idnD', 'idnK', 'ahr', 'yjhG', 'yjhH', 'nanM', 'nanC', 'gntP', 'uxuA', 'uxuB', 'mdtM', 'mdoB', 'bglJ', 'yjjG', 'deoC', 'deoA', 'deoB', 'deoD', 'lplA', 'serB', 'nadR', 'trpR', 'yjjX', 'arcA']"
   ]
  },
  {
   "cell_type": "code",
   "execution_count": null,
   "id": "6d91274e-b309-4bd2-bf2f-fa8124e2bda2",
   "metadata": {},
   "outputs": [],
   "source": [
    "len(set(all_genes_wcm))"
   ]
  },
  {
   "cell_type": "code",
   "execution_count": null,
   "id": "e989b28d-c1f9-438f-b621-f4f27a36abc5",
   "metadata": {},
   "outputs": [],
   "source": [
    "df_genes_wcm = pd.DataFrame({'genes_names': all_genes_wcm})\n",
    "df_genes_wcm['deleted'] = df_genes_wcm['genes_names'].isin(delted_minesweeper)\n",
    "df_genes_wcm['genes_wcm'] = True\n",
    "df_genes_wcm.set_index('genes_names', inplace=True)"
   ]
  },
  {
   "cell_type": "code",
   "execution_count": null,
   "id": "463a5fa7-d448-4369-8920-2a1c9483f72b",
   "metadata": {},
   "outputs": [],
   "source": [
    "df_genes_wcm.head()"
   ]
  },
  {
   "cell_type": "code",
   "execution_count": null,
   "id": "7b4634ef-ab14-4d4c-a972-598c4893c685",
   "metadata": {},
   "outputs": [],
   "source": [
    "#Load list of all genes in MG1655\n",
    "genes_go_ecocyc = pd.read_csv('genes_GO_ecocyc.txt', sep='\\t', header=0)\n",
    "genes_go_ecocyc['Synonyms'] = genes_go_ecocyc['Synonyms'].str.split(' // ')\n",
    "\n",
    "#Load genes in MS56\n",
    "ms56 = list(pd.read_csv('mds56.csv', sep='\\t', header=None)[0])"
   ]
  },
  {
   "cell_type": "code",
   "execution_count": null,
   "id": "b47d3314-ac70-43bb-83b5-4b506e9b1774",
   "metadata": {},
   "outputs": [],
   "source": [
    "set(delted_minesweeper) - set(genes_go_ecocyc['Common-Name'])"
   ]
  },
  {
   "cell_type": "code",
   "execution_count": null,
   "id": "c634bd65-3224-4eda-8632-0f9817df17b1",
   "metadata": {},
   "outputs": [],
   "source": [
    "mapping_dict = {'ybaS':'glsA', 'ilvG_1': 'ilvG', 'ilvG_2':'ilvG', 'lhgO':'lhgD', 'mdoB': 'opgB', 'rfaE': 'hldE', \n",
    "                'spr': 'mepS', 'tppB': 'dtpA', 'visC':'ubiI', 'ybjE':'lysO', 'ycbL': 'gloC', 'ygfQ':'ghxQ','yjdL': 'dtpC',  \n",
    "                'yfaW':'rhmD', 'yfbT':'hxpA', 'yghZ':'gpr', 'yjeF':'nnr', 'yneH':'glsB', 'ytfG':'qorB'}\n",
    "\n",
    "delted_minesweeper = [mapping_dict.get(item, item) for item in delted_minesweeper]\n"
   ]
  },
  {
   "cell_type": "code",
   "execution_count": null,
   "id": "33bd77f9-8f99-4e38-833e-adaec9ea5b89",
   "metadata": {},
   "outputs": [],
   "source": [
    "set(delted_minesweeper) - set(genes_go_ecocyc['Common-Name'])"
   ]
  },
  {
   "cell_type": "code",
   "execution_count": null,
   "id": "6efe0746-ae43-4016-ab63-a7b0fbe837c4",
   "metadata": {},
   "outputs": [],
   "source": [
    "# there are 481 instead of 482 because ilvG_1 and ilvG_2 seem to be one gene\n",
    "len(set(delted_minesweeper))"
   ]
  },
  {
   "cell_type": "code",
   "execution_count": null,
   "id": "ab8fc43d-a9c9-4045-9887-3d7e4b57a800",
   "metadata": {},
   "outputs": [],
   "source": [
    "all_genes_df = pd.DataFrame()\n",
    "all_genes_df['all_genes'] = genes_go_ecocyc.sort_values('Left-End-Position')['Common-Name']\n",
    "all_genes_df['minesweeper_removed'] = all_genes_df['all_genes'].isin(delted_minesweeper)\n",
    "all_genes_df.set_index('all_genes', inplace=True)"
   ]
  },
  {
   "cell_type": "code",
   "execution_count": null,
   "id": "4b55d3e2-d329-4f93-9931-8504dd2c73f4",
   "metadata": {
    "tags": []
   },
   "outputs": [],
   "source": [
    "print(len(set(ms56) - set(genes_go_ecocyc['Common-Name'])))\n",
    "to_rename = set(ms56) - set(genes_go_ecocyc['Common-Name'])\n",
    "for y in to_rename:\n",
    "    if y in list(genes_go_ecocyc['Accession-1']):\n",
    "        try:\n",
    "            ms56 = list(map(lambda x: x.replace(y, genes_go_ecocyc.iloc[list(genes_go_ecocyc['Accession-1']).index(y)]['Common-Name']), ms56))\n",
    "        except:\n",
    "            print(y, ' common name is ', genes_go_ecocyc.iloc[list(genes_go_ecocyc['Accession-1']).index(y)]['Common-Name'])\n",
    "    else:\n",
    "        try:\n",
    "            ms56 = list(map(lambda x: x.replace(y, genes_go_ecocyc[genes_go_ecocyc['Synonyms'].apply(lambda x: y in x if isinstance(x, list) else False)]['Common-Name'].iloc[0]), ms56))\n",
    "        except:\n",
    "            print(y)\n"
   ]
  },
  {
   "cell_type": "code",
   "execution_count": null,
   "id": "15eb54a9-6899-4f04-9b49-95b3e7ff821b",
   "metadata": {},
   "outputs": [],
   "source": [
    "# There are 19 genes in ms56 whose names couldn't be matched to ecocyc data\n",
    "print(len(set(ms56) - set(genes_go_ecocyc['Common-Name'])))\n",
    "mapping_dict = {'tra83':'insI3', 'yir22':'insD2', 'ydbA1':'ydbA', 'yfaS1':'yfaS', 'yi211': 'insC1', 'tra51':'insF2',\n",
    "               'yi215': 'insC5', 'yi224':'insD4', 'tra53':'insF4', 'trs58':'insH8', 'yi216':'insC6', 'ycgH1':'ycgH',\n",
    "               'trs55':'insH5', 'yedN1': 'yedN', 'yi221': 'insD1', 'yi811': 'insL1'}\n",
    "\n",
    "ms56 = [mapping_dict.get(item, item) for item in ms56]\n",
    "\n",
    "print(len(set(ms56) - set(genes_go_ecocyc['Common-Name'])))"
   ]
  },
  {
   "cell_type": "code",
   "execution_count": null,
   "id": "bce0624d-9311-4060-9159-d5592f6ee2e1",
   "metadata": {},
   "outputs": [],
   "source": [
    "all_genes_df.head()"
   ]
  },
  {
   "cell_type": "code",
   "execution_count": null,
   "id": "ac28c72e-6a7f-4cc8-9ee8-8bb5898c08cf",
   "metadata": {},
   "outputs": [],
   "source": [
    "result_ms56 = [index in ms56 for index in all_genes_df.index]\n",
    "all_genes_df['MS56'] = all_genes_df.index.isin(ms56)\n"
   ]
  },
  {
   "cell_type": "code",
   "execution_count": null,
   "id": "1bc820f6-6001-4bf8-b3a1-bbb3a05a3bc9",
   "metadata": {},
   "outputs": [],
   "source": [
    "#all_genes_df.to_pickle('all_genes_df_ms56.pkl')"
   ]
  },
  {
   "cell_type": "markdown",
   "id": "9357133d",
   "metadata": {},
   "source": [
    "# Plot genomes"
   ]
  },
  {
   "cell_type": "code",
   "execution_count": null,
   "id": "3becc425-1fad-4142-bfe5-81cd3fd3d7d9",
   "metadata": {},
   "outputs": [],
   "source": [
    "#all_genes_df = pd.read_pickle('all_genes_df_ms56.pkl')"
   ]
  },
  {
   "cell_type": "code",
   "execution_count": null,
   "id": "12a4ffe4",
   "metadata": {},
   "outputs": [],
   "source": [
    "genes = all_genes_df.copy()\n",
    "genes.head()"
   ]
  },
  {
   "cell_type": "code",
   "execution_count": null,
   "id": "4592bbe8-e974-4310-9d28-c3d413a28f20",
   "metadata": {},
   "outputs": [],
   "source": [
    "len(genes)"
   ]
  },
  {
   "cell_type": "code",
   "execution_count": null,
   "id": "84aba6c0-88e1-492f-acea-78e3caa807c1",
   "metadata": {},
   "outputs": [],
   "source": [
    "len(all_genes_wcm)"
   ]
  },
  {
   "cell_type": "code",
   "execution_count": null,
   "id": "75c40965-16ed-4897-8687-e900c3e33216",
   "metadata": {},
   "outputs": [],
   "source": [
    "# Renaming genes from wcm to match the ecocyc names\n",
    "print(len(set(all_genes_wcm) - set(genes_go_ecocyc['Common-Name'])))\n",
    "to_rename = set(all_genes_wcm) - set(genes_go_ecocyc['Common-Name'])\n",
    "for y in to_rename:\n",
    "    if y in list(genes_go_ecocyc['Accession-1']):\n",
    "        print('In accession')\n",
    "        all_genes_wcm = list(map(lambda x: x.replace(y, genes_go_ecocyc['Accession-1'][genes_go_ecocyc['Accession-1'].index(y)]), all_genes_wcm))\n",
    "    elif y == 'spr':\n",
    "        all_genes_wcm = list(map(lambda x: x.replace(y, 'mepS'), all_genes_wcm))\n",
    "    elif y == 'ade':\n",
    "        all_genes_wcm = list(map(lambda x: x.replace(y, 'adeD'), all_genes_wcm))\n",
    "    else:\n",
    "        try:\n",
    "            all_genes_wcm = list(map(lambda x: x.replace(y, genes_go_ecocyc[genes_go_ecocyc['Synonyms'].apply(lambda x: y in x if isinstance(x, list) else False)]['Common-Name'].iloc[0]), all_genes_wcm))\n",
    "            print(y, ' replace with ', genes_go_ecocyc[genes_go_ecocyc['Synonyms'].apply(lambda x: y in x if isinstance(x, list) else False)]['Common-Name'].iloc[0])\n",
    "        except:\n",
    "            print(y)\n",
    "print(len(set(all_genes_wcm) - set(genes_go_ecocyc['Common-Name'])))\n"
   ]
  },
  {
   "cell_type": "code",
   "execution_count": null,
   "id": "4312b71f-2eae-4df1-815d-232dc436c2d7",
   "metadata": {},
   "outputs": [],
   "source": [
    "set(all_genes_wcm) - set(genes_go_ecocyc['Common-Name'])\n"
   ]
  },
  {
   "cell_type": "code",
   "execution_count": null,
   "id": "d45d1e91-9707-49f5-942a-4a04a2d851fe",
   "metadata": {},
   "outputs": [],
   "source": [
    "mapping_dict = {'phnE_1':'phnE', 'rdoA':'dsbA', 'qorAB':'qorB', 'ilvG_1':'ilvG', 'ilvG_2':'ilvG'}\n",
    "\n",
    "all_genes_wcm = [mapping_dict.get(item, item) for item in all_genes_wcm]"
   ]
  },
  {
   "cell_type": "code",
   "execution_count": null,
   "id": "85a0dc97-42d1-4d41-b843-3f51fae68ce9",
   "metadata": {},
   "outputs": [],
   "source": [
    "set(all_genes_wcm) - set(list(genes.index))"
   ]
  },
  {
   "cell_type": "code",
   "execution_count": null,
   "id": "da5161ff-f3b4-41c8-9d55-46d9f3463a91",
   "metadata": {},
   "outputs": [],
   "source": [
    "result_wcm = [index in all_genes_wcm for index in all_genes_df.index]\n",
    "genes['wcm_single'] = result_wcm\n",
    "\n",
    "all_genes=list(genes.index)\n",
    "all_wcm = list(genes[genes['wcm_single']==True].index)\n",
    "ms56 = list(genes[genes['MS56']==True].index)\n",
    "deleted_genes_renamed = list(genes[genes['minesweeper_removed']==True].index)"
   ]
  },
  {
   "cell_type": "code",
   "execution_count": null,
   "id": "16637f1d-2b0f-4038-9c59-648b49e720e1",
   "metadata": {},
   "outputs": [],
   "source": [
    "#Genes that are in the WCM and removed in MS56\n",
    "len(set(all_wcm) & set(ms56))"
   ]
  },
  {
   "cell_type": "code",
   "execution_count": null,
   "id": "039d89bb-7a50-450a-8d5c-6eb6e5591bbd",
   "metadata": {},
   "outputs": [],
   "source": [
    "#Genes that are in the WCM, in MS56 and in the reduced genome\n",
    "len(set(all_wcm) & set(ms56) & set(deleted_genes_renamed))"
   ]
  },
  {
   "cell_type": "code",
   "execution_count": null,
   "id": "c093471d-b164-4c7c-8243-4d998546eb0c",
   "metadata": {},
   "outputs": [],
   "source": [
    "len(set(deleted_genes_renamed)-set(ms56))"
   ]
  },
  {
   "cell_type": "code",
   "execution_count": null,
   "id": "961d3f72",
   "metadata": {},
   "outputs": [],
   "source": [
    "print(len(all_wcm), len(ms56), len(deleted_genes_renamed))"
   ]
  },
  {
   "cell_type": "code",
   "execution_count": null,
   "id": "a90b7168-6d85-479a-9c95-bcbed3633a12",
   "metadata": {},
   "outputs": [],
   "source": [
    "1218-481"
   ]
  },
  {
   "cell_type": "code",
   "execution_count": null,
   "id": "ca932112",
   "metadata": {},
   "outputs": [],
   "source": [
    "from pycirclize import Circos as circos\n",
    "\n",
    "plt.figure(figsize=(6,6))\n",
    "circos.figsize=(6,6)"
   ]
  },
  {
   "cell_type": "code",
   "execution_count": null,
   "id": "bc830d73-5d0d-4260-88b5-35d53f3fc7bb",
   "metadata": {},
   "outputs": [],
   "source": [
    "from pycirclize import Circos as circos\n",
    "from pycirclize.utils import load_prokaryote_example_file\n",
    "import numpy as np\n",
    "from matplotlib.patches import Patch\n",
    "from matplotlib.lines import Line2D\n",
    "circos.figsize=(17.67,17.67)\n",
    "\n",
    "count_wcm=0\n",
    "count_mine = 0\n",
    "count_ms = 0\n",
    "\n",
    "g = all_genes.copy()\n",
    "circos = circos(sectors=dict((el,1) for i, el in enumerate(g)), space=0)\n",
    "#circos.text(\"Wildtype $\\it{E.\\ coli}$\\n WCM\", size=24, r=25, color='#ff7f0e')\n",
    "#circos.text(\"MS56 reduced $\\it{in\\ vivo}$\", size=24, r=0, color='#1f77b4')\n",
    "#circos.text(\"EMine-737 reduced \\n $\\it{in\\ silico}$ genome\", size=24, r=25, deg=180, color='#2ca02c')\n",
    "i=0\n",
    "print(len(circos.sectors))\n",
    "for sector in circos.sectors:\n",
    "    i+=1\n",
    "    sector.axis(fc=\"none\", ec=\"none\", edgecolor='none')\n",
    "    # Set Track01 (Radius: 95 - 100)\n",
    "    \n",
    "    if sector.name in all_wcm:\n",
    "        track1 = sector.add_track((85, 100))\n",
    "        track1.axis(fc=\"#ff7f0e\", edgecolor='none')\n",
    "        count_wcm+=1\n",
    "        #track1.text(track1.name)\n",
    "    else:\n",
    "        track1 = sector.add_track((85, 100))\n",
    "        track1.axis(fc=\"white\",  edgecolor='none')\n",
    "        #track1.text(track1.name)\n",
    "        \n",
    "    if sector.name in ms56:\n",
    "        count_ms += 1\n",
    "        track2 = sector.add_track((70, 85))\n",
    "        track2.axis(fc=\"white\", edgecolor='none')\n",
    "    else:\n",
    "        track2 = sector.add_track((70, 85))\n",
    "        track2.axis(fc=\"#1f77b4\", edgecolor='none')\n",
    "        \n",
    "        \n",
    "    if sector.name in deleted_genes_renamed or sector.name not in all_wcm:\n",
    "        track3 = sector.add_track((55, 70))\n",
    "        count_mine+=1\n",
    "        track3.axis(fc=\"white\", edgecolor='none')\n",
    "    else:\n",
    "        track3 = sector.add_track((55, 70))\n",
    "        track3.axis(fc=\"#2ca02c\", edgecolor='none')\n",
    "circos.plotfig()\n",
    "\n"
   ]
  },
  {
   "cell_type": "code",
   "execution_count": null,
   "id": "d18bb010-e1eb-4130-97ff-d9a08b436730",
   "metadata": {},
   "outputs": [],
   "source": [
    "circos.savefig('minimal_genome_better_new_white.png', dpi=800)"
   ]
  },
  {
   "cell_type": "code",
   "execution_count": null,
   "id": "0d8dcdbd",
   "metadata": {},
   "outputs": [],
   "source": [
    "d = {'Name':['MS56', 'WCM modelled genes', 'EMine-737'], 'MS56': [3782, None, None], 'WCM': [None, 1219, None], 'EMine-737':[None, None, 737], 'MG1655':[1083, 3494, 3494]}\n",
    "c= {'MS56': '#1f77b4', 'WCM':'#ff7f0e', 'EMine-737':'#2ca02c', 'MG1655':'white'}\n"
   ]
  },
  {
   "cell_type": "code",
   "execution_count": null,
   "id": "1228dea9",
   "metadata": {
    "scrolled": true
   },
   "outputs": [],
   "source": [
    "import numpy as np\n",
    "import matplotlib.pyplot as plt\n",
    "plt.plot()\n",
    "plt.rcParams.update({'font.size': 14}) # must set in top\n",
    "plt.figure(figsize=(15.26, 15.26))\n",
    "\n",
    "df= pd.DataFrame(d)\n",
    "# plot a Stacked Bar Chart using matplotlib\n",
    "df.plot(\n",
    "  kind = 'bar', edgecolor='white', linewidth=0.6,\n",
    "  stacked = True,\n",
    "  width=0.5,\n",
    "  ylim=[0,7600],\n",
    "  ylabel='Number of genes',\n",
    "  fontsize=16, color=c\n",
    ")\n",
    "plt.xticks(ticks = [0, 1, 2], labels = ['MS56', 'WCM', 'EMine-737'])\n"
   ]
  },
  {
   "cell_type": "code",
   "execution_count": null,
   "id": "c381721f-4b70-4da7-8f4c-6fb4bb4c029d",
   "metadata": {
    "tags": []
   },
   "outputs": [],
   "source": [
    "plt.show()"
   ]
  },
  {
   "cell_type": "code",
   "execution_count": null,
   "id": "0f727335-4d8d-4467-9f3b-b057062badbb",
   "metadata": {},
   "outputs": [],
   "source": [
    "plt.savefig('hist_n_genes.png', dpi=700)"
   ]
  },
  {
   "cell_type": "markdown",
   "id": "6083604d",
   "metadata": {},
   "source": [
    "# GO analysis"
   ]
  },
  {
   "cell_type": "code",
   "execution_count": null,
   "id": "9158ebd1",
   "metadata": {},
   "outputs": [],
   "source": [
    "from goatools import obo_parser\n",
    "from goatools.associations import read_ncbi_gene2go\n",
    "from goatools.go_enrichment import GOEnrichmentStudy\n",
    "\n",
    "import wget\n",
    "import os\n",
    "\n",
    "from goatools.anno.genetogo_reader import Gene2GoReader\n",
    "import gzip\n",
    "from Bio.UniProt.GOA import gafiterator\n",
    "\n"
   ]
  },
  {
   "cell_type": "code",
   "execution_count": null,
   "id": "00a63d74",
   "metadata": {},
   "outputs": [],
   "source": [
    "#!python3 ncbi_gene_results_to_python.py -o genes_ncbi_ecoli.py gene_result.txt"
   ]
  },
  {
   "cell_type": "code",
   "execution_count": null,
   "id": "a1725f48",
   "metadata": {},
   "outputs": [],
   "source": [
    "from genes_ncbi_ecoli import GENEID2NT as GeneID2nt_ecoli"
   ]
  },
  {
   "cell_type": "code",
   "execution_count": null,
   "id": "caf07d8f",
   "metadata": {},
   "outputs": [],
   "source": [
    "from goatools.base import download_go_basic_obo\n",
    "from goatools.base import download_ncbi_associations\n",
    "from goatools.obo_parser import GODag\n",
    "from goatools.anno.genetogo_reader import Gene2GoReader\n",
    "from goatools.goea.go_enrichment_ns import GOEnrichmentStudyNS\n"
   ]
  },
  {
   "cell_type": "code",
   "execution_count": null,
   "id": "4d604c50",
   "metadata": {},
   "outputs": [],
   "source": [
    "#run one time to initialize\n",
    "obo_fname = download_go_basic_obo()\n",
    "fin_gene2go = download_ncbi_associations()\n",
    "obodag = GODag(\"go-basic.obo\")"
   ]
  },
  {
   "cell_type": "code",
   "execution_count": null,
   "id": "8956d590",
   "metadata": {},
   "outputs": [],
   "source": [
    "#run one time to initialize\n",
    "mapper = {}\n",
    "\n",
    "for key in GeneID2nt_ecoli:\n",
    "    #if GeneID2nt_ecoli[key].Symbol in all_genes_wcm_list:\n",
    "    mapper[GeneID2nt_ecoli[key].Symbol] = GeneID2nt_ecoli[key].GeneID\n",
    "    \n",
    "inv_map = {v: k for k, v in mapper.items()}"
   ]
  },
  {
   "cell_type": "code",
   "execution_count": null,
   "id": "475b259d",
   "metadata": {
    "scrolled": true
   },
   "outputs": [],
   "source": [
    "len(mapper)"
   ]
  },
  {
   "cell_type": "code",
   "execution_count": null,
   "id": "21a164ef",
   "metadata": {},
   "outputs": [],
   "source": [
    "objanno = Gene2GoReader(fin_gene2go, taxids=[511145])\n",
    "ns2assoc = objanno.get_ns2assc()"
   ]
  },
  {
   "cell_type": "code",
   "execution_count": null,
   "id": "5ec86007",
   "metadata": {},
   "outputs": [],
   "source": [
    "#run one time to initialize\n",
    "goeaobj = GOEnrichmentStudyNS(\n",
    "        GeneID2nt_ecoli.keys(), # List of ecoli protein-coding genes\n",
    "        ns2assoc, # geneid/GO associations\n",
    "        obodag, # Ontologies\n",
    "        propagate_counts = False,\n",
    "        alpha = 0.05, # default significance cut-off\n",
    "        methods = ['fdr_bh']) # defult multipletest correction method"
   ]
  },
  {
   "cell_type": "code",
   "execution_count": null,
   "id": "f8dfb9e6",
   "metadata": {},
   "outputs": [],
   "source": [
    "#run one time to initialize\n",
    "GO_items = []\n",
    "\n",
    "temp = goeaobj.ns2objgoea['BP'].assoc\n",
    "for item in temp:\n",
    "    GO_items += temp[item]\n",
    "    \n",
    "\n",
    "temp = goeaobj.ns2objgoea['CC'].assoc\n",
    "for item in temp:\n",
    "    GO_items += temp[item]\n",
    "    \n",
    "\n",
    "temp = goeaobj.ns2objgoea['MF'].assoc\n",
    "for item in temp:\n",
    "    GO_items += temp[item]"
   ]
  },
  {
   "cell_type": "code",
   "execution_count": null,
   "id": "11212817",
   "metadata": {},
   "outputs": [],
   "source": [
    "#pass list of gene symbols\n",
    "def go_it(test_genes):\n",
    "    print(f'input genes: {len(test_genes)}')\n",
    "    \n",
    "    mapped_genes = []\n",
    "    for gene in test_genes:\n",
    "        try:\n",
    "            mapped_genes.append(mapper[gene])\n",
    "        except:\n",
    "            print(gene)\n",
    "    print(f'mapped genes: {len(mapped_genes)}')\n",
    "    \n",
    "    goea_results_all = goeaobj.run_study(mapped_genes)\n",
    "    goea_results_sig = [r for r in goea_results_all if r.p_fdr_bh < 0.05]\n",
    "    GO = pd.DataFrame(list(map(lambda x: [x.GO, x.goterm.name, x.goterm.namespace, x.p_uncorrected, x.p_fdr_bh,\\\n",
    "                   x.ratio_in_study[0], x.ratio_in_study[1], GO_items.count(x.GO), list(map(lambda y: inv_map[y], x.study_items)),\\\n",
    "                   ], goea_results_sig)), columns = ['GO', 'term', 'class', 'p', 'p_corr', 'n_genes',\\\n",
    "                                                    'n_study', 'n_go',  'study_genes'])\n",
    "\n",
    "    GO = GO[GO.n_genes > 1]\n",
    "    return GO"
   ]
  },
  {
   "cell_type": "code",
   "execution_count": null,
   "id": "70a066b2-a72a-4383-8b75-3f1544b4385d",
   "metadata": {},
   "outputs": [],
   "source": [
    "len(deleted_genes_renamed)"
   ]
  },
  {
   "cell_type": "code",
   "execution_count": null,
   "id": "af2e2f4a-1cd5-4df3-b36d-39a74b454134",
   "metadata": {},
   "outputs": [],
   "source": [
    "set(delted_minesweeper) - set(deleted_genes_renamed)"
   ]
  },
  {
   "cell_type": "code",
   "execution_count": null,
   "id": "55c89feb",
   "metadata": {},
   "outputs": [],
   "source": [
    "df_all_del = go_it(deleted_genes_renamed)"
   ]
  },
  {
   "cell_type": "code",
   "execution_count": null,
   "id": "dba7358b",
   "metadata": {},
   "outputs": [],
   "source": [
    "df_all_del['per'] = df_all_del.n_genes/df_all_del.n_go"
   ]
  },
  {
   "cell_type": "code",
   "execution_count": null,
   "id": "f666cddb-8c72-466d-9fa6-3a333d64deda",
   "metadata": {},
   "outputs": [],
   "source": [
    "df_all_del"
   ]
  },
  {
   "cell_type": "code",
   "execution_count": null,
   "id": "42f1c983-647b-4c31-a657-7de26d2a153e",
   "metadata": {},
   "outputs": [],
   "source": [
    "full_go = df_all_del[df_all_del['per']==1]"
   ]
  },
  {
   "cell_type": "code",
   "execution_count": null,
   "id": "b0af51c1-8d3d-4e53-bfa5-f226eb2c95f1",
   "metadata": {},
   "outputs": [],
   "source": [
    "len(df_all_del[df_all_del['per']==1])"
   ]
  },
  {
   "cell_type": "code",
   "execution_count": null,
   "id": "ec323e43-354c-4704-b544-8e0aa6eb8e4a",
   "metadata": {},
   "outputs": [],
   "source": [
    "full_go"
   ]
  },
  {
   "cell_type": "code",
   "execution_count": null,
   "id": "e0ccd4d4-70cb-4a0b-9f58-653d21495aad",
   "metadata": {},
   "outputs": [],
   "source": [
    "removed_go_terms = list(full_go['term'])\n",
    "removed_go_terms"
   ]
  },
  {
   "cell_type": "markdown",
   "id": "7e866283-dd57-40fb-a49a-7dfcc43ac2a9",
   "metadata": {},
   "source": [
    "# GO for all WCM genes"
   ]
  },
  {
   "cell_type": "code",
   "execution_count": null,
   "id": "ce93eceb-2dfd-4842-ad9f-8e5981e48501",
   "metadata": {},
   "outputs": [],
   "source": [
    "df1 = go_it(all_genes_wcm)\n",
    "df1['per'] = df1.n_genes/df1.n_go\n",
    "len(df1[df1['per']==1])"
   ]
  },
  {
   "cell_type": "code",
   "execution_count": null,
   "id": "a8455bd4-a85b-400c-98b1-5d6edb46b0d9",
   "metadata": {},
   "outputs": [],
   "source": [
    "all_gos_wcm = list(df1[df1['per']==1]['GO'])"
   ]
  },
  {
   "cell_type": "code",
   "execution_count": null,
   "id": "6c4ae195-e479-4669-bee9-5ca5dab8de85",
   "metadata": {},
   "outputs": [],
   "source": [
    "df1[df1['GO']=='GO:0003857']['study_genes']"
   ]
  },
  {
   "cell_type": "code",
   "execution_count": null,
   "id": "f7ecfefc-54b3-4963-9e81-6de55a6c9f61",
   "metadata": {},
   "outputs": [],
   "source": [
    "df1.to_csv('all_go_wcm.csv')"
   ]
  },
  {
   "cell_type": "markdown",
   "id": "1a6e56fd-f07b-4f9b-b825-276f0e5d7374",
   "metadata": {},
   "source": [
    "# GO for missclassified genes"
   ]
  },
  {
   "cell_type": "code",
   "execution_count": null,
   "id": "739f4d31-a2ce-4eda-a960-8cba34dda8f9",
   "metadata": {},
   "outputs": [],
   "source": [
    "from goatools import obo_parser\n",
    "from goatools.associations import read_ncbi_gene2go\n",
    "from goatools.go_enrichment import GOEnrichmentStudy\n",
    "\n",
    "import wget\n",
    "import os\n",
    "\n",
    "from goatools.anno.genetogo_reader import Gene2GoReader\n",
    "import gzip\n",
    "from Bio.UniProt.GOA import gafiterator\n",
    "\n",
    "!python3 /Library/Frameworks/Python.framework/Versions/3.10/bin/ncbi_gene_results_to_python.py -o genes_ncbi_ecoli.py gene_result.txt\n",
    "\n",
    "from genes_ncbi_ecoli import GENEID2NT as GeneID2nt_ecoli\n",
    "from goatools.base import download_go_basic_obo\n",
    "from goatools.base import download_ncbi_associations\n",
    "from goatools.obo_parser import GODag\n",
    "from goatools.anno.genetogo_reader import Gene2GoReader\n",
    "from goatools.goea.go_enrichment_ns import GOEnrichmentStudyNS\n",
    "\n",
    "import pandas as pd"
   ]
  },
  {
   "cell_type": "code",
   "execution_count": null,
   "id": "17433373-8579-4b7e-a195-7ca19e808b75",
   "metadata": {},
   "outputs": [],
   "source": [
    "#run one time to initialize\n",
    "obo_fname = download_go_basic_obo()\n",
    "fin_gene2go = download_ncbi_associations()\n",
    "obodag = GODag(\"go-basic.obo\")"
   ]
  },
  {
   "cell_type": "code",
   "execution_count": null,
   "id": "9b388c7b-3d5c-4808-ad38-abd2a59f6419",
   "metadata": {},
   "outputs": [],
   "source": [
    "#run one time to initialize\n",
    "mapper = {}\n",
    "\n",
    "for key in GeneID2nt_ecoli:\n",
    "    #if GeneID2nt_ecoli[key].Symbol in all_genes_wcm_list:\n",
    "    mapper[GeneID2nt_ecoli[key].Symbol] = GeneID2nt_ecoli[key].GeneID\n",
    "    \n",
    "inv_map = {v: k for k, v in mapper.items()}"
   ]
  },
  {
   "cell_type": "code",
   "execution_count": null,
   "id": "6bf25595-2e0f-4df5-93e3-a3ad74ce3ae1",
   "metadata": {},
   "outputs": [],
   "source": [
    "objanno = Gene2GoReader(fin_gene2go, taxids=[511145])\n",
    "ns2assoc = objanno.get_ns2assc()"
   ]
  },
  {
   "cell_type": "code",
   "execution_count": null,
   "id": "0b319045-bd98-4713-a96f-f24bc9114bcc",
   "metadata": {},
   "outputs": [],
   "source": [
    "#run one time to initialize\n",
    "goeaobj = GOEnrichmentStudyNS(\n",
    "        GeneID2nt_ecoli.keys(), # List of ecoli protein-coding genes\n",
    "        ns2assoc, # geneid/GO associations\n",
    "        obodag, # Ontologies\n",
    "        propagate_counts = False,\n",
    "        alpha = 0.05, # default significance cut-off\n",
    "        methods = ['fdr_bh']) # defult multipletest correction method"
   ]
  },
  {
   "cell_type": "code",
   "execution_count": null,
   "id": "73ed1904-38cf-4cf3-bbd3-7f73fa044e41",
   "metadata": {},
   "outputs": [],
   "source": [
    "#run one time to initialize\n",
    "GO_items = []\n",
    "\n",
    "temp = goeaobj.ns2objgoea['BP'].assoc\n",
    "for item in temp:\n",
    "    GO_items += temp[item]\n",
    "    \n",
    "\n",
    "temp = goeaobj.ns2objgoea['CC'].assoc\n",
    "for item in temp:\n",
    "    GO_items += temp[item]\n",
    "    \n",
    "\n",
    "temp = goeaobj.ns2objgoea['MF'].assoc\n",
    "for item in temp:\n",
    "    GO_items += temp[item]"
   ]
  },
  {
   "cell_type": "code",
   "execution_count": null,
   "id": "fd8be182-5f44-4809-a1ca-ef1da9982ee7",
   "metadata": {},
   "outputs": [],
   "source": [
    "#pass list of gene symbols\n",
    "def go_it(test_genes):\n",
    "    print(f'input genes: {len(test_genes)}')\n",
    "    \n",
    "    mapped_genes = []\n",
    "    for gene in test_genes:\n",
    "        try:\n",
    "            mapped_genes.append(mapper[gene])\n",
    "        except:\n",
    "            print(gene)\n",
    "    print(f'mapped genes: {len(mapped_genes)}')\n",
    "    \n",
    "    goea_results_all = goeaobj.run_study(mapped_genes)\n",
    "    goea_results_sig = [r for r in goea_results_all if r.p_fdr_bh < 0.05]\n",
    "    GO = pd.DataFrame(list(map(lambda x: [x.GO, x.goterm.name, x.goterm.namespace, x.p_uncorrected, x.p_fdr_bh,\\\n",
    "                   x.ratio_in_study[0], x.ratio_in_study[1], GO_items.count(x.GO), list(map(lambda y: inv_map[y], x.study_items)),\\\n",
    "                   ], goea_results_sig)), columns = ['GO', 'term', 'class', 'p', 'p_corr', 'n_genes',\\\n",
    "                                                    'n_study', 'n_go',  'study_genes'])\n",
    "\n",
    "    GO = GO[GO.n_genes > 1]\n",
    "    return GO"
   ]
  },
  {
   "cell_type": "code",
   "execution_count": null,
   "id": "f49cca92-404f-47e5-8f12-407916efdd63",
   "metadata": {},
   "outputs": [],
   "source": [
    "genes_missclass = ['aldA', 'aldA', 'aroE', 'aroE', 'aroP', 'aroP', 'atpA', 'atpE', 'atpF', 'atpF', 'cpdA', 'cpdA', 'csdA', 'csdA', 'cyoE', 'cyoE', 'emrE', 'emrE', 'glcE', 'glcE', 'gltA', 'gltA', 'guaB', 'guaB', 'livG', 'livG', 'livJ', 'livJ', 'lpxL', 'lpxL', 'mltC', 'mltC', 'murJ', 'murJ', 'nhaA', 'pfkB', 'pfkB', 'potB', 'potB', 'prs',  'prs',  'rcnA', 'rcnA', 'rfaD', 'ribB', 'ribB', 'rpiA', 'rpiA', 'thiL', 'thiL', 'thyA', 'tmk',  'tmk',  'xanQ',  'xanQ']\n",
    "\n",
    "genes_miss = set(genes_missclass)"
   ]
  },
  {
   "cell_type": "code",
   "execution_count": null,
   "id": "cc0e1faa-c86d-47c4-9647-1a899f932103",
   "metadata": {},
   "outputs": [],
   "source": [
    "len(genes_miss)"
   ]
  },
  {
   "cell_type": "code",
   "execution_count": null,
   "id": "96e7d815-ac33-4a32-b440-6bf9bd9b6e50",
   "metadata": {},
   "outputs": [],
   "source": [
    "df = go_it(genes_miss)"
   ]
  },
  {
   "cell_type": "code",
   "execution_count": null,
   "id": "875d7b38-8832-46a8-8b46-509593bb9b6f",
   "metadata": {},
   "outputs": [],
   "source": [
    "df"
   ]
  },
  {
   "cell_type": "code",
   "execution_count": null,
   "id": "2a383785-4ce8-4086-be14-a611ffdd623e",
   "metadata": {},
   "outputs": [],
   "source": [
    "df.to_csv('GO_missclassified_genes.csv')"
   ]
  },
  {
   "cell_type": "markdown",
   "id": "96ab535b-5550-4a2e-95d7-4d4f68285bc3",
   "metadata": {},
   "source": [
    "# Compare MDS with Emine"
   ]
  },
  {
   "cell_type": "code",
   "execution_count": null,
   "id": "28965fee-8fb3-4527-9c8a-61e633e21640",
   "metadata": {},
   "outputs": [],
   "source": [
    "from goatools.gosubdag.gosubdag import GoSubDag\n",
    "import pandas as pd\n",
    "import numpy as np\n",
    "import matplotlib.pyplot as plt\n",
    "from scipy.cluster.hierarchy import linkage, dendrogram, fcluster\n",
    "from scipy.spatial.distance import pdist, squareform\n",
    "from matplotlib import cm, colors"
   ]
  },
  {
   "cell_type": "code",
   "execution_count": null,
   "id": "eb490d28-7d88-4889-8b88-19de70739fda",
   "metadata": {},
   "outputs": [],
   "source": [
    "# Function to find the most general terms among a set of related terms\n",
    "def find_most_general_terms(terms, gosubdag):\n",
    "    general_terms = set(terms) \n",
    "    for term in terms:\n",
    "        # All children of each term in the subset graph\n",
    "        children = gosubdag.rcntobj.go2descendants.get(term, set())\n",
    "        # Remove any term that is a child of another term from the set of general terms\n",
    "        general_terms.difference_update(children)\n",
    "    return general_terms"
   ]
  },
  {
   "cell_type": "code",
   "execution_count": null,
   "id": "3cb13a03-5dde-498a-ace9-93a0840d2716",
   "metadata": {},
   "outputs": [],
   "source": [
    "# Calculate Jaccard similarity\n",
    "def jaccard_similarity(list1, list2):\n",
    "    intersection = len(set(list1).intersection(set(list2)))\n",
    "    union = len(set(list1).union(set(list2)))\n",
    "    return intersection / union if union != 0 else 0"
   ]
  },
  {
   "cell_type": "code",
   "execution_count": null,
   "id": "fabf31e9-d33a-4325-b6fb-de34abe67d42",
   "metadata": {},
   "outputs": [],
   "source": [
    "def clustering(data):\n",
    "    similarity_matrix = np.zeros((len(data), len(data)))\n",
    "\n",
    "    for i in range(len(data)):\n",
    "        for j in range(len(data)):\n",
    "            similarity_matrix[i, j] = jaccard_similarity(data.iloc[i]['study_genes'], data.iloc[j]['study_genes'])\n",
    "\n",
    "    # Convert similarity to distance\n",
    "    distance_matrix = 1 - similarity_matrix\n",
    "    print(distance_matrix)\n",
    "    \n",
    "    # Hierarchical clustering\n",
    "    linked = linkage(squareform(distance_matrix), method='complete')\n",
    "    return linked"
   ]
  },
  {
   "cell_type": "markdown",
   "id": "f30ea0ac-f601-45d5-9f78-c67a73f1442d",
   "metadata": {},
   "source": [
    "## GO for 684 genes kept both in EMine and MS56"
   ]
  },
  {
   "cell_type": "code",
   "execution_count": null,
   "id": "3b983a75-4a7e-43ea-81b7-afa5e9c0afd2",
   "metadata": {},
   "outputs": [],
   "source": [
    "keep_both = list((set(all_wcm) - set(ms56)) & (set(all_wcm) - set(deleted_genes_renamed)))\n",
    "print(len(keep_both))\n",
    "df_keep_both = go_it(keep_both)"
   ]
  },
  {
   "cell_type": "code",
   "execution_count": null,
   "id": "46a73b47-d68b-442b-a6f2-53fa1f4a0f13",
   "metadata": {},
   "outputs": [],
   "source": [
    "df_keep_both['per'] = df_keep_both.n_genes/df_keep_both.n_go\n",
    "df_keep_both1 = df_keep_both[df_keep_both['per']==1].sort_values('per', ascending=False)\n",
    "len(df_keep_both1)"
   ]
  },
  {
   "cell_type": "code",
   "execution_count": null,
   "id": "9ae45380-d147-4d10-856e-7fad6a325ebb",
   "metadata": {},
   "outputs": [],
   "source": [
    "df_keep_both1"
   ]
  },
  {
   "cell_type": "code",
   "execution_count": null,
   "id": "1faae3fb-6ced-4704-a3f0-03cb88ce8d2e",
   "metadata": {},
   "outputs": [],
   "source": [
    "significant_terms = list(df_keep_both1['GO'])\n",
    "gosubdag = GoSubDag(significant_terms, obodag, prt=None)\n",
    "\n",
    "most_general_terms = find_most_general_terms(significant_terms, gosubdag)\n",
    "\n",
    "print(\"Most general terms to plot:\", most_general_terms)\n",
    "len(most_general_terms)"
   ]
  },
  {
   "cell_type": "code",
   "execution_count": null,
   "id": "50d0e5ff-c878-4327-a50c-2f3c775dd975",
   "metadata": {},
   "outputs": [],
   "source": [
    "data = df_keep_both1[df_keep_both1['GO'].isin(list(most_general_terms))][['GO', 'term', 'p', 'study_genes']]\n",
    "data"
   ]
  },
  {
   "cell_type": "code",
   "execution_count": null,
   "id": "ea9671a7-cd58-4b2c-8826-f0dc27e4b5f3",
   "metadata": {},
   "outputs": [],
   "source": [
    "linked = clustering(data)"
   ]
  },
  {
   "cell_type": "code",
   "execution_count": null,
   "id": "23a71379-641a-4d52-987d-4f68ac67fdda",
   "metadata": {},
   "outputs": [],
   "source": [
    "# Assign clusters at a specified cut-off value\n",
    "t = 0.9  \n",
    "clusters = fcluster(linked, t, criterion='distance')\n",
    "data['cluster'] = clusters\n",
    "\n",
    "# Plotting the clustered GO terms with color coding\n",
    "plt.figure(figsize=(5, 7))\n",
    "unique_clusters = np.unique(clusters)\n",
    "\n",
    "cols=colors.ListedColormap(cm.tab20.colors + cm.tab20c.colors, name='tab40')(np.linspace(0, 1, len(unique_clusters)))\n",
    "for cluster, color in zip(unique_clusters, cols):\n",
    "    clustered_data = data[(data['cluster'] == cluster)]\n",
    "    plt.barh(clustered_data['term'], -np.log10(clustered_data['p']), color=color)\n",
    "\n",
    "plt.xlabel('-log10(P-value)')\n",
    "plt.ylabel('GO Terms')\n",
    "plt.gca().invert_yaxis()\n",
    "plt.ylim(-0.5, len(data)-0.45)\n",
    "plt.yticks(fontsize=8)\n",
    "plt.tight_layout()\n",
    "plt.savefig('go_keep_both.pdf', dpi=500)"
   ]
  },
  {
   "cell_type": "code",
   "execution_count": null,
   "id": "8858cf2a-9cef-458b-88d7-c2d68ec88372",
   "metadata": {},
   "outputs": [],
   "source": [
    "df_keep_both.sort_values('per', ascending=False).to_csv('Table11.csv')"
   ]
  },
  {
   "cell_type": "markdown",
   "id": "1669cdf9-dc79-4107-8d92-d61788080fa8",
   "metadata": {},
   "source": [
    "## GO for 53 genes kept in EMine, but deleteed in MS56"
   ]
  },
  {
   "cell_type": "code",
   "execution_count": null,
   "id": "d6321ec9-2200-434d-8021-b4e10d233ee6",
   "metadata": {},
   "outputs": [],
   "source": [
    "keep_emine = list((set(all_wcm) - set(deleted_genes_renamed)) - (set(all_wcm) - set(ms56)))\n",
    "print(len(keep_emine))\n",
    "df_keep_emin = go_it(keep_emine)"
   ]
  },
  {
   "cell_type": "code",
   "execution_count": null,
   "id": "24081de3-bea6-4074-b34a-23d21752d5a7",
   "metadata": {},
   "outputs": [],
   "source": [
    "df_keep_emin['per'] = df_keep_emin.n_genes/df_keep_emin.n_go\n",
    "df_keep_emin[df_keep_emin['per']==1]"
   ]
  },
  {
   "cell_type": "code",
   "execution_count": null,
   "id": "133b5281-d551-4d15-b77b-1f45aa227b02",
   "metadata": {},
   "outputs": [],
   "source": [
    "# Plotting the clustered GO terms with color coding\n",
    "plt.figure(figsize=(5, 1.5))\n",
    "\n",
    "cols=colors.ListedColormap(cm.tab20.colors + cm.tab20c.colors, name='tab40')(np.linspace(0, 1, len(unique_clusters)))\n",
    "for i, row in df_keep_emin[df_keep_emin['per']==1].iterrows():\n",
    "    plt.barh(row['term'], -np.log10(row['p']), color=cols[i])\n",
    "\n",
    "plt.xlabel('-log10(P-value)')\n",
    "plt.ylabel('GO Terms')\n",
    "plt.gca().invert_yaxis()\n",
    "plt.ylim(-1, 1.05)\n",
    "plt.yticks(fontsize=8)\n",
    "plt.tight_layout()\n",
    "plt.savefig('go_keep_emin.pdf', dpi=500)"
   ]
  },
  {
   "cell_type": "code",
   "execution_count": null,
   "id": "99f7f4f3-788c-477d-8d30-2d202aad1b2c",
   "metadata": {},
   "outputs": [],
   "source": [
    "df_keep_emin.to_csv('Table12.csv')"
   ]
  },
  {
   "cell_type": "markdown",
   "id": "422b8a33-2e57-4408-a85a-20f390281a13",
   "metadata": {},
   "source": [
    "## GO for 98 genes deleted both in EMine and MS56"
   ]
  },
  {
   "cell_type": "code",
   "execution_count": null,
   "id": "2d92a171-805b-435b-bc15-e7661b53dc3a",
   "metadata": {},
   "outputs": [],
   "source": [
    "del_both = list(set(deleted_genes_renamed) & set(ms56))\n",
    "print(len(del_both))\n",
    "df_del_both = go_it(del_both)\n",
    "df_del_both['per'] = df_del_both.n_genes/df_del_both.n_go"
   ]
  },
  {
   "cell_type": "code",
   "execution_count": null,
   "id": "ebc6618c-7b82-446c-a60d-964906db0bcf",
   "metadata": {},
   "outputs": [],
   "source": [
    "df_del_both.sort_values('per', ascending=False).to_csv('Table13.csv')\n",
    "data = df_del_both[df_del_both['per']==1]"
   ]
  },
  {
   "cell_type": "code",
   "execution_count": null,
   "id": "484b99e0-c99f-4c8a-b6f0-deec02738d0b",
   "metadata": {},
   "outputs": [],
   "source": [
    "linked = clustering(data)"
   ]
  },
  {
   "cell_type": "code",
   "execution_count": null,
   "id": "3e89275f-bb94-4cf3-a09d-5822d2b6c97c",
   "metadata": {},
   "outputs": [],
   "source": [
    "clusters = fcluster(linked, t, criterion='distance')\n",
    "data['cluster'] = clusters\n",
    "\n",
    "# Plotting the clustered GO terms with color coding\n",
    "plt.figure(figsize=(5,2))\n",
    "unique_clusters = np.unique(clusters)\n",
    "\n",
    "cols=colors.ListedColormap(cm.tab20.colors + cm.tab20c.colors, name='tab40')(np.linspace(0, 1, len(unique_clusters)))\n",
    "for cluster, color in zip(unique_clusters, cols):\n",
    "    clustered_data = data[(data['cluster'] == cluster)]\n",
    "    plt.barh(clustered_data['term'], -np.log10(clustered_data['p']), color=color)\n",
    "\n",
    "plt.xlabel('-log10(P-value)')\n",
    "plt.ylabel('GO Terms')\n",
    "plt.gca().invert_yaxis()\n",
    "plt.ylim(-0.5, len(data)-0.45)\n",
    "plt.yticks(fontsize=8)\n",
    "plt.tight_layout()\n",
    "plt.savefig('go_del_both.pdf', dpi=500)"
   ]
  },
  {
   "cell_type": "markdown",
   "id": "31c20ebe-505a-4d70-aa4b-6740a20ba83d",
   "metadata": {},
   "source": [
    "## GO for 383 genes that are deleted in EMine, but kept in MS56"
   ]
  },
  {
   "cell_type": "code",
   "execution_count": null,
   "id": "a8c7b9f0-25fd-4813-bda3-0a2840045c64",
   "metadata": {},
   "outputs": [],
   "source": [
    "del_only_emine = list(set(deleted_genes_renamed) - set(ms56))\n",
    "print(len(del_only_emine))\n",
    "df_del_emine = go_it(del_only_emine)\n",
    "df_del_emine['per'] = df_del_emine.n_genes/df_del_emine.n_go"
   ]
  },
  {
   "cell_type": "code",
   "execution_count": null,
   "id": "18cb6d27-0a96-49f8-9daa-95f439fb4eac",
   "metadata": {},
   "outputs": [],
   "source": [
    "df_del_emine[df_del_emine['per']==1]"
   ]
  },
  {
   "cell_type": "code",
   "execution_count": null,
   "id": "63155182-dfa3-4b54-a805-cc82327b6a7e",
   "metadata": {},
   "outputs": [],
   "source": [
    "significant_terms = list(df_del_emine[df_del_emine['per']==1]['GO'])\n",
    "# Create a subset graph for the significant terms\n",
    "gosubdag = GoSubDag(significant_terms, obodag, prt=None)\n",
    "\n",
    "# Function to find the most general terms among a set of related terms\n",
    "def find_most_general_terms(terms, gosubdag):\n",
    "    general_terms = set(terms)  # Start with all terms considered as general\n",
    "    for term in terms:\n",
    "        # Get all children of each term in the subset graph\n",
    "        children = gosubdag.rcntobj.go2descendants.get(term, set())\n",
    "        # Remove any term that is a child of another term from the set of general terms\n",
    "        general_terms.difference_update(children)\n",
    "    return general_terms\n",
    "\n",
    "# Use the function to filter terms\n",
    "most_general_terms = find_most_general_terms(significant_terms, gosubdag)\n",
    "\n",
    "print(\"Most general terms to plot:\", most_general_terms)\n",
    "len(most_general_terms)"
   ]
  },
  {
   "cell_type": "code",
   "execution_count": null,
   "id": "192c2dc3-2fcb-45ee-ae78-e7221467535f",
   "metadata": {},
   "outputs": [],
   "source": [
    "data = df_del_emine[df_del_emine['GO'].isin(list(most_general_terms))]"
   ]
  },
  {
   "cell_type": "code",
   "execution_count": null,
   "id": "07200521-4c4f-4d50-ab13-b3d8d56fcd57",
   "metadata": {},
   "outputs": [],
   "source": [
    "linked = clustering(data)"
   ]
  },
  {
   "cell_type": "code",
   "execution_count": null,
   "id": "82355e41-0681-4386-9508-0a4c9fad7a05",
   "metadata": {},
   "outputs": [],
   "source": [
    "t = 0.9  # This threshold can be adjusted\n",
    "clusters = fcluster(linked, t, criterion='distance')\n",
    "data['cluster'] = clusters\n",
    "\n",
    "# Plotting the clustered GO terms with color coding\n",
    "plt.figure(figsize=(5,3))\n",
    "unique_clusters = np.unique(clusters)\n",
    "\n",
    "colors=colors.ListedColormap(cm.tab20.colors + cm.tab20c.colors, name='tab40')(np.linspace(0, 1, len(unique_clusters)))\n",
    "for cluster, color in zip(unique_clusters, colors):\n",
    "    clustered_data = data[(data['cluster'] == cluster)]\n",
    "    plt.barh(clustered_data['term'], -np.log10(clustered_data['p']), color=color)\n",
    "\n",
    "plt.xlabel('-log10(P-value)')\n",
    "plt.ylabel('GO Terms')\n",
    "plt.gca().invert_yaxis()\n",
    "plt.ylim(-0.5, len(data)-0.45)\n",
    "plt.yticks(fontsize=8)\n",
    "plt.tight_layout()\n",
    "plt.savefig('go_del_emine.pdf', dpi=500)"
   ]
  },
  {
   "cell_type": "code",
   "execution_count": null,
   "id": "0a66ce59-0c74-4f94-b4bb-f71f1d01449d",
   "metadata": {},
   "outputs": [],
   "source": []
  }
 ],
 "metadata": {
  "kernelspec": {
   "display_name": "Python 3 (ipykernel)",
   "language": "python",
   "name": "python3"
  },
  "language_info": {
   "codemirror_mode": {
    "name": "ipython",
    "version": 3
   },
   "file_extension": ".py",
   "mimetype": "text/x-python",
   "name": "python",
   "nbconvert_exporter": "python",
   "pygments_lexer": "ipython3",
   "version": "3.8.5"
  },
  "toc": {
   "base_numbering": 1,
   "nav_menu": {},
   "number_sections": true,
   "sideBar": true,
   "skip_h1_title": false,
   "title_cell": "Table of Contents",
   "title_sidebar": "Contents",
   "toc_cell": false,
   "toc_position": {},
   "toc_section_display": true,
   "toc_window_display": false
  }
 },
 "nbformat": 4,
 "nbformat_minor": 5
}
