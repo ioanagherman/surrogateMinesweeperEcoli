{
 "cells": [
  {
   "cell_type": "code",
   "execution_count": null,
   "id": "b2268de8-fb11-4edb-8f59-a6af916ab565",
   "metadata": {},
   "outputs": [],
   "source": [
    "import pandas as pd\n",
    "import numpy as np\n",
    "import matplotlib.pyplot as plt\n",
    "import pickle"
   ]
  },
  {
   "cell_type": "code",
   "execution_count": null,
   "id": "5271d7aa-12ef-463f-810c-f0ff8e8e075b",
   "metadata": {},
   "outputs": [],
   "source": [
    "import warnings\n",
    "warnings.filterwarnings('ignore')"
   ]
  },
  {
   "cell_type": "code",
   "execution_count": null,
   "id": "ee4c5f49-2624-4e5d-8935-1844608e05d2",
   "metadata": {},
   "outputs": [],
   "source": [
    "pd.set_option('display.max_colwidth', None)"
   ]
  },
  {
   "cell_type": "code",
   "execution_count": null,
   "id": "428e850a-f3bf-48d1-a889-0b4fb48ee835",
   "metadata": {
    "tags": []
   },
   "outputs": [],
   "source": [
    "def intersection(lst1, lst2):\n",
    "    lst3 = [value for value in lst1 if value in lst2]\n",
    "    return lst3\n",
    "\n"
   ]
  },
  {
   "cell_type": "markdown",
   "id": "927a1c97-e241-4f0e-936d-50b3a636643d",
   "metadata": {},
   "source": [
    "# Load data"
   ]
  },
  {
   "cell_type": "code",
   "execution_count": null,
   "id": "222c0f69-8f3e-4a17-a78b-87308ef179b3",
   "metadata": {},
   "outputs": [],
   "source": [
    "df_single = pd.read_pickle('/home/ig13470/Documents/WCM_data/df_single_ko.pkl')\n",
    "df_double = pd.read_pickle('/home/ig13470/Documents/WCM_data/df_double.pkl')"
   ]
  },
  {
   "cell_type": "markdown",
   "id": "652e6977-d709-4729-bef1-5898bba90b80",
   "metadata": {},
   "source": [
    "# Model training on t=0"
   ]
  },
  {
   "cell_type": "code",
   "execution_count": null,
   "id": "06129c08-ebcb-450e-81a3-47b9146c337a",
   "metadata": {},
   "outputs": [],
   "source": [
    "cols = ['cellMass', 'growth', 'dryMass', 'waterMass', 'dnaMass', 'cytosol_mass',\n",
    "       'tRnaMass', 'extracellular_mass', 'rRnaMass', 'proteinMass',\n",
    "       'projection_mass', 'rnaMass', 'outer_membrane_mass', 'flagellum',\n",
    "       'pilus_mass', 'cellVolume', 'inner_membrane_mass', 'mRnaMass',\n",
    "       'smallMoleculeMass', 'instantaniousGrowthRate', 'membrane_mass',\n",
    "       'periplasm_mass']\n",
    "\n",
    "#this is for the cells that survive only for 1 time-step\n",
    "df_features2 = df_single[df_single['cellMass'].str.len().isna()]\n",
    "    \n",
    "\n",
    "#this is for the cells that survive for more than 1 time-step\n",
    "df_features1 = df_single[~df_single['cellMass'].str.len().isna()]\n",
    "\n",
    "for c in cols:\n",
    "    df_features1[c] = df_features1[c].apply(lambda x:x[0])\n",
    "\n",
    "\n",
    "        \n",
    "df_features = pd.concat([df_features1, df_features2])\n",
    "df_features['growth'] = df_features['growth'].fillna(0)\n",
    "df_features = df_features.drop(columns=['processMassDifferences', 'time'])"
   ]
  },
  {
   "cell_type": "code",
   "execution_count": null,
   "id": "64c8f53b-4f10-4db0-92cf-986bdb3c96d9",
   "metadata": {},
   "outputs": [],
   "source": [
    "df_features.columns"
   ]
  },
  {
   "cell_type": "code",
   "execution_count": null,
   "id": "d7c9f0ef-667a-40a4-95f7-79de587832b5",
   "metadata": {},
   "outputs": [],
   "source": [
    "from sklearn.model_selection import GroupShuffleSplit\n",
    "\n",
    "y = df_features.label_death.replace({'not_deadly': 'non_essential', 'deadly_gene': 'essential'})\n",
    "X = df_features.drop(['label', 'cell_path', 'generation', 'seed', 'instantaniousGrowthRate', 'cell', 'gene_name', 'label_lifetime', 'label_death', 'growth'], axis=1)\n",
    "\n",
    "gs = GroupShuffleSplit(n_splits=1, train_size=0.8, random_state=6)\n",
    "\n",
    "gen = list(next(gs.split(X, y, groups=X.gene_id)))\n",
    "train_ix = gen[0]\n",
    "test_ix = gen[1]\n",
    "\n",
    "X_train = X.iloc[train_ix]\n",
    "y_train = y.iloc[train_ix]\n",
    "\n",
    "X_test = X.iloc[test_ix]\n",
    "y_test = y.iloc[test_ix]"
   ]
  },
  {
   "cell_type": "code",
   "execution_count": null,
   "id": "9330539e-09c7-49cb-a8f1-4f9eb08efa6c",
   "metadata": {},
   "outputs": [],
   "source": [
    "y_train.value_counts()"
   ]
  },
  {
   "cell_type": "code",
   "execution_count": null,
   "id": "044f2a6a-70c8-4141-8ea8-10b9d82e246e",
   "metadata": {},
   "outputs": [],
   "source": [
    "map_label = {'non_essential': 0, 'essential':1}"
   ]
  },
  {
   "cell_type": "code",
   "execution_count": null,
   "id": "c679e423-9bc7-4c23-9e07-6d67d1d84d10",
   "metadata": {
    "scrolled": true
   },
   "outputs": [],
   "source": [
    "from sklearn.ensemble import RandomForestClassifier\n",
    "from sklearn.metrics import confusion_matrix, ConfusionMatrixDisplay\n",
    "from sklearn.metrics import f1_score\n",
    "from sklearn.model_selection import GroupKFold\n",
    "from sklearn.linear_model import LogisticRegression\n",
    "\n",
    "\n",
    "gkf_cv = GroupKFold(n_splits=5)\n",
    "f1_tr = []\n",
    "f1_eval = []\n",
    "\n",
    "m_depth = [11, 13, 15, 17, 19, 21]\n",
    "n_est = [22, 24, 26, 28]\n",
    "m_leaf = [15, 16, 17, 18, 19]\n",
    "comb = [(i, j, z) for i in m_depth for j in n_est for z in m_leaf]\n",
    "res = []\n",
    "\n",
    "for k in comb:\n",
    "    clf = RandomForestClassifier(max_depth=k[0], n_estimators=k[1], random_state=0, max_leaf_nodes=k[2])\n",
    "    for split, (ix_train, ix_test) in enumerate(gkf_cv.split(X_train.drop(columns=['gene_id']).astype(float), groups=X_train['gene_id'])):\n",
    "        X_tr = X_train.drop(columns=[ 'gene_id']).iloc[ix_train]\n",
    "        y_tr = y_train.iloc[ix_train]\n",
    "        X_te = X_train.drop(columns=[ 'gene_id']).iloc[ix_test]\n",
    "        y_te = y_train.iloc[ix_test]\n",
    "        clf.fit(X_tr, y_tr)\n",
    "        cnf1 = confusion_matrix(y_tr, clf.predict(X_tr))\n",
    "        disp = ConfusionMatrixDisplay(confusion_matrix=cnf1,\n",
    "                                   display_labels=clf.classes_)\n",
    "        \n",
    "        f1_tr.append(f1_score(y_tr, clf.predict(X_tr), pos_label='essential'))\n",
    "        cnf2 = confusion_matrix(y_te, clf.predict(X_te))\n",
    "        disp = ConfusionMatrixDisplay(confusion_matrix=cnf2,\n",
    "                                   display_labels=clf.classes_)\n",
    "        \n",
    "        f1_eval.append(f1_score(y_te, clf.predict(X_te), pos_label='essential'))\n",
    "    \n",
    "    print('Avg eval ', sum(f1_eval)/len(f1_eval))\n",
    "    \n",
    "    clf.fit(X_train.drop(columns=['gene_id']), y_train)\n",
    "    \n",
    "    print('F1 score training ', f1_score(y_train, clf.predict(X_train.drop(columns=[ 'gene_id'])),  pos_label='essential'))\n",
    "        \n",
    "    print('F1 score testing', f1_score(y_test, clf.predict(X_test.drop(columns=[ 'gene_id'])),  pos_label='essential'))\n",
    "    print(k)\n",
    "    print('===========================')\n",
    "    res.append([f1_score(y_train, clf.predict(X_train.drop(columns=[ 'gene_id'])),  pos_label='essential'), \n",
    "                f1_score(y_test, clf.predict(X_test.drop(columns=[ 'gene_id'])),  pos_label='essential'), k])\n"
   ]
  },
  {
   "cell_type": "code",
   "execution_count": null,
   "id": "959faa41-4817-48c0-a160-f3cb5454be35",
   "metadata": {
    "scrolled": true
   },
   "outputs": [],
   "source": [
    "sorted_list = sorted(res, key=lambda x: x[1], reverse=True)\n",
    "sorted_list"
   ]
  },
  {
   "cell_type": "code",
   "execution_count": null,
   "id": "b6cf0137-a026-42b3-bbcb-2f7eabe7f7d3",
   "metadata": {
    "scrolled": true
   },
   "outputs": [],
   "source": [
    "from sklearn.ensemble import RandomForestClassifier\n",
    "from sklearn.metrics import confusion_matrix, ConfusionMatrixDisplay\n",
    "from sklearn.metrics import f1_score\n",
    "from sklearn.model_selection import GroupKFold\n",
    "from sklearn.linear_model import LogisticRegression\n",
    "import xgboost as xgb\n",
    "from sklearn.neighbors import KNeighborsClassifier\n",
    "\n",
    "\n",
    "gkf_cv = GroupKFold(n_splits=5)\n",
    "f1_tr = []\n",
    "f1_eval = []\n",
    "m_depth = [6, 8, 10, 12]\n",
    "min_child_w = [18, 20, 22, 24]\n",
    "n_estimators = [20, 30, 40, 50]\n",
    "comb = [(i, j, z) for i in m_depth for j in min_child_w for z in n_estimators]\n",
    "res = []\n",
    "\n",
    "for k in comb:\n",
    "    clf = xgb.XGBClassifier(max_depth=k[0], min_child_weight=k[1], n_estimators=k[2], learning_rate=0.1, verbosity=0)\n",
    "    for split, (ix_train, ix_test) in enumerate(gkf_cv.split(X_train.drop(columns=['gene_id']).astype(float), groups=X_train['gene_id'])):\n",
    "        X_train = X.iloc[train_ix]\n",
    "        y_train = y.iloc[train_ix]\n",
    "\n",
    "        X_test = X.iloc[test_ix]\n",
    "        y_test = y.iloc[test_ix]\n",
    "        \n",
    "        X_tr = X_train.drop(columns=['gene_id']).iloc[ix_train].astype(float)\n",
    "        y_tr = y_train.iloc[ix_train]\n",
    "        X_te = X_train.drop(columns=['gene_id']).iloc[ix_test].astype(float)\n",
    "        y_te = y_train.iloc[ix_test]\n",
    "        y_tr = [map_label[x] for x in y_tr]\n",
    "        y_te = [map_label[x] for x in y_te]\n",
    "        clf.fit(X_tr, y_tr, eval_set=[(X_te, y_te)], verbose=0)\n",
    "    \n",
    "        f1_tr.append(f1_score(y_tr, clf.predict(X_tr), pos_label=1))\n",
    "        \n",
    "        f1_eval.append(f1_score(y_te, clf.predict(X_te), pos_label=1))\n",
    "    \n",
    "    print(sum(f1_eval)/len(f1_eval))\n",
    "    \n",
    "    y_train = [map_label[x] for x in y_train]\n",
    "    y_test = [map_label[x] for x in y_test]\n",
    "    \n",
    "    clf.fit(X_train.drop(columns=['gene_id']).astype(float), y_train, eval_set=[(X_test.drop(columns=['gene_id']).astype(float), y_test)], verbose=0)\n",
    "    \n",
    "    print(f1_score(y_train, clf.predict(X_train.drop(columns=['gene_id']).astype(float)),  pos_label=1))\n",
    "        \n",
    "    \n",
    "    print(f1_score(y_test, clf.predict(X_test.drop(columns=['gene_id']).astype(float)),  pos_label=1))\n",
    "    print(k)\n",
    "    print('=======================')\n",
    "    res.append([f1_score(y_train, clf.predict(X_train.drop(columns=[ 'gene_id']).astype(float)),  pos_label=1), \n",
    "                f1_score(y_test, clf.predict(X_test.drop(columns=[ 'gene_id']).astype(float)),  pos_label=1), k])\n",
    "\n",
    "\n"
   ]
  },
  {
   "cell_type": "code",
   "execution_count": null,
   "id": "34f59d3c-2ba8-42ad-9088-ef5385b3773b",
   "metadata": {
    "scrolled": true
   },
   "outputs": [],
   "source": [
    "sorted_list = sorted(res, key=lambda x: x[1], reverse=True)\n",
    "sorted_list"
   ]
  },
  {
   "cell_type": "code",
   "execution_count": null,
   "id": "b4e0033b-d5c7-4d2b-bb9f-8562a9bde659",
   "metadata": {
    "scrolled": true
   },
   "outputs": [],
   "source": [
    "from sklearn.ensemble import RandomForestClassifier\n",
    "from sklearn.metrics import confusion_matrix, ConfusionMatrixDisplay\n",
    "from sklearn.metrics import f1_score\n",
    "from sklearn.model_selection import GroupKFold\n",
    "from sklearn.linear_model import LogisticRegression\n",
    "from sklearn import svm\n",
    "from sklearn.neighbors import KNeighborsClassifier\n",
    "\n",
    "gkf_cv = GroupKFold(n_splits=5)\n",
    "f1_tr = []\n",
    "f1_eval = []\n",
    "\n",
    "X_train = X.iloc[train_ix]\n",
    "y_train = y.iloc[train_ix]\n",
    "X_test = X.iloc[test_ix]\n",
    "y_test = y.iloc[test_ix]\n",
    "\n",
    "for k in [1, 2, 3, 4, 5, 6, 7, 8, 9, 10, 11, 12, 13]:\n",
    "    for split, (ix_train, ix_test) in enumerate(gkf_cv.split(X_train.drop(columns=[ 'gene_id']).astype(float), groups=X_train['gene_id'])):\n",
    "        clf = KNeighborsClassifier(n_neighbors=k)\n",
    "        X_tr = X_train.drop(columns=[ 'gene_id']).iloc[ix_train]\n",
    "        y_tr = y_train.iloc[ix_train]\n",
    "        X_te = X_train.drop(columns=[ 'gene_id']).iloc[ix_test]\n",
    "        y_te = y_train.iloc[ix_test]\n",
    "        clf.fit(X_tr, y_tr)\n",
    "        \n",
    "        f1_tr.append(f1_score(y_tr, clf.predict(X_tr), pos_label='essential'))\n",
    "        f1_eval.append(f1_score(y_te, clf.predict(X_te), pos_label='essential'))\n",
    "\n",
    "    clf.fit(X_train.drop(columns=['gene_id']), y_train)\n",
    "    print(f1_score(y_train, clf.predict(X_train.drop(columns=['gene_id'])),  pos_label='essential'))\n",
    "        \n",
    "    cnf_test = confusion_matrix(y_test, clf.predict(X_test.drop(columns=[ 'gene_id'])))\n",
    "    disp = ConfusionMatrixDisplay(confusion_matrix=cnf_test,\n",
    "                                   display_labels=clf.classes_)\n",
    "    print(f1_score(y_test, clf.predict(X_test.drop(columns=[ 'gene_id'])),  pos_label='essential'))\n",
    "    \n",
    "    FP = cnf_test.sum(axis=0) - np.diag(cnf_test)  \n",
    "    FN = cnf_test.sum(axis=1) - np.diag(cnf_test)\n",
    "    TP = np.diag(cnf_test)\n",
    "    TN = cnf_test.sum() - (FP + FN + TP)\n",
    "    print(k)\n",
    "    print('False negative rate for testing is ' + str( FN/(TP+FN)))\n"
   ]
  },
  {
   "cell_type": "markdown",
   "id": "d9146166-749c-46b3-8ec3-d86bea4aefee",
   "metadata": {},
   "source": [
    "# Test final single KOs trained RF on all features"
   ]
  },
  {
   "cell_type": "code",
   "execution_count": null,
   "id": "f85a707c-a3b0-4546-bff3-2a4f181cbcea",
   "metadata": {},
   "outputs": [],
   "source": [
    "cols = ['cellMass', 'growth', 'dryMass', 'waterMass', 'dnaMass', 'cytosol_mass',\n",
    "       'tRnaMass', 'extracellular_mass', 'rRnaMass', 'proteinMass',\n",
    "       'projection_mass', 'rnaMass', 'outer_membrane_mass', 'flagellum',\n",
    "       'pilus_mass', 'cellVolume', 'inner_membrane_mass', 'mRnaMass',\n",
    "       'smallMoleculeMass', 'instantaniousGrowthRate', 'membrane_mass',\n",
    "       'periplasm_mass']\n",
    "\n",
    "#this is for the cells that survive only for 1 time-step\n",
    "df_features2 = df_single[df_single['cellMass'].str.len().isna()]\n",
    "    \n",
    "\n",
    "#this is for the cells that survive for more than 1 time-step\n",
    "df_features1 = df_single[~df_single['cellMass'].str.len().isna()]\n",
    "\n",
    "for c in cols:\n",
    "    df_features1[c] = df_features1[c].apply(lambda x:x[-1])\n",
    "\n",
    "\n",
    "        \n",
    "df_features = pd.concat([df_features1, df_features2])\n",
    "df_features['growth'] = df_features['growth'].fillna(0)\n",
    "df_features = df_features.drop(columns=['processMassDifferences', 'time'])"
   ]
  },
  {
   "cell_type": "code",
   "execution_count": null,
   "id": "43e79894-06f1-4b07-a13b-d6ff5a9ae1de",
   "metadata": {},
   "outputs": [],
   "source": [
    "from sklearn.model_selection import GroupShuffleSplit\n",
    "\n",
    "y = df_features.label_death.replace({'not_deadly': 'non_essential', 'deadly_gene': 'essential'})\n",
    "X = df_features.drop([ 'label', 'cell_path', 'generation', 'seed', 'instantaniousGrowthRate',\n",
    "                       'cell', 'gene_name', 'label_lifetime', 'label_death', 'growth'], axis=1)\n",
    "\n",
    "gs = GroupShuffleSplit(n_splits=1, train_size=0.8, random_state=6)\n",
    "\n",
    "gen = list(next(gs.split(X, y, groups=X.gene_id)))\n",
    "train_ix = gen[0]\n",
    "test_ix = gen[1]\n",
    "\n",
    "X_train = X.iloc[train_ix]\n",
    "y_train = y.iloc[train_ix]\n",
    "\n",
    "X_test = X.iloc[test_ix]\n",
    "y_test = y.iloc[test_ix]"
   ]
  },
  {
   "cell_type": "code",
   "execution_count": null,
   "id": "da4cb8d7-51c0-4b63-b1ee-550d7af2e443",
   "metadata": {},
   "outputs": [],
   "source": [
    "y_train.value_counts()"
   ]
  },
  {
   "cell_type": "code",
   "execution_count": null,
   "id": "c1c7c05e-4877-4997-a440-bc3dd7d9fc50",
   "metadata": {
    "scrolled": true
   },
   "outputs": [],
   "source": [
    "gkf_cv = GroupKFold(n_splits=5)\n",
    "f1_tr = []\n",
    "f1_eval = []\n",
    "\n",
    "m_depth = [3, 4, 6, 8, 11, 13]\n",
    "n_est = [4, 6, 8, 9, 14]\n",
    "m_leaf = [10, 12, 15]\n",
    "comb = [(i, j, z) for i in m_depth for j in n_est for z in m_leaf]\n",
    "res = []\n",
    "\n",
    "for k in comb:\n",
    "    clf = RandomForestClassifier(max_depth=k[0], n_estimators=k[1], random_state=0, max_leaf_nodes=k[2])\n",
    "    for split, (ix_train, ix_test) in enumerate(gkf_cv.split(X_train.drop(columns=['gene_id']).astype(float), groups=X_train['gene_id'])):\n",
    "        X_tr = X_train.drop(columns=[ 'gene_id']).iloc[ix_train]\n",
    "        y_tr = y_train.iloc[ix_train]\n",
    "        X_te = X_train.drop(columns=[ 'gene_id']).iloc[ix_test]\n",
    "        y_te = y_train.iloc[ix_test]\n",
    "        clf.fit(X_tr, y_tr)\n",
    "        cnf1 = confusion_matrix(y_tr, clf.predict(X_tr))\n",
    "        disp = ConfusionMatrixDisplay(confusion_matrix=cnf1,\n",
    "                                   display_labels=clf.classes_)\n",
    "        \n",
    "        f1_tr.append(f1_score(y_tr, clf.predict(X_tr), pos_label='essential'))\n",
    "        cnf2 = confusion_matrix(y_te, clf.predict(X_te))\n",
    "        disp = ConfusionMatrixDisplay(confusion_matrix=cnf2,\n",
    "                                   display_labels=clf.classes_)\n",
    "        \n",
    "        f1_eval.append(f1_score(y_te, clf.predict(X_te), pos_label='essential'))\n",
    "    \n",
    "    print('Avg eval ', sum(f1_eval)/len(f1_eval))\n",
    "    \n",
    "    clf.fit(X_train.drop(columns=['gene_id']), y_train)\n",
    "    \n",
    "    print('F1 score training ', f1_score(y_train, clf.predict(X_train.drop(columns=[ 'gene_id'])),  pos_label='essential'))\n",
    "        \n",
    "    print('F1 score testing', f1_score(y_test, clf.predict(X_test.drop(columns=[ 'gene_id'])),  pos_label='essential'))\n",
    "    print(k)\n",
    "    print('===========================')\n",
    "    res.append([f1_score(y_train, clf.predict(X_train.drop(columns=[ 'gene_id'])),  pos_label='essential'), \n",
    "                f1_score(y_test, clf.predict(X_test.drop(columns=[ 'gene_id'])),  pos_label='essential'), k])\n"
   ]
  },
  {
   "cell_type": "code",
   "execution_count": null,
   "id": "6794fc29-8e57-43d4-bb42-96963a3001bc",
   "metadata": {
    "scrolled": true
   },
   "outputs": [],
   "source": [
    "sorted_list = sorted(res, key=lambda x: x[1], reverse=True)\n",
    "sorted_list"
   ]
  },
  {
   "cell_type": "code",
   "execution_count": null,
   "id": "339330f6-9f89-4d81-bc93-d31c9004cb65",
   "metadata": {
    "scrolled": true
   },
   "outputs": [],
   "source": [
    "from sklearn.ensemble import RandomForestClassifier\n",
    "from sklearn.metrics import confusion_matrix, ConfusionMatrixDisplay\n",
    "from sklearn.metrics import f1_score\n",
    "from sklearn.model_selection import GroupKFold\n",
    "from sklearn.linear_model import LogisticRegression\n",
    "import xgboost as xgb\n",
    "from sklearn.neighbors import KNeighborsClassifier\n",
    "\n",
    "\n",
    "gkf_cv = GroupKFold(n_splits=5)\n",
    "f1_tr = []\n",
    "f1_eval = []\n",
    "m_depth = [6, 8, 10, 12]\n",
    "min_child_w = [18, 20, 22, 24]\n",
    "n_estimators = [20, 30, 40, 50]\n",
    "comb = [(i, j, z) for i in m_depth for j in min_child_w for z in n_estimators]\n",
    "res = []\n",
    "\n",
    "for k in comb:\n",
    "    clf = xgb.XGBClassifier(max_depth=k[0], min_child_weight=k[1], n_estimators=k[2], learning_rate=0.1, verbosity=0)\n",
    "    for split, (ix_train, ix_test) in enumerate(gkf_cv.split(X_train.drop(columns=['gene_id']).astype(float), groups=X_train['gene_id'])):\n",
    "        X_train = X.iloc[train_ix]\n",
    "        y_train = y.iloc[train_ix]\n",
    "\n",
    "        X_test = X.iloc[test_ix]\n",
    "        y_test = y.iloc[test_ix]\n",
    "        \n",
    "        X_tr = X_train.drop(columns=['gene_id']).iloc[ix_train].astype(float)\n",
    "        y_tr = y_train.iloc[ix_train]\n",
    "        X_te = X_train.drop(columns=['gene_id']).iloc[ix_test].astype(float)\n",
    "        y_te = y_train.iloc[ix_test]\n",
    "        y_tr = [map_label[x] for x in y_tr]\n",
    "        y_te = [map_label[x] for x in y_te]\n",
    "        clf.fit(X_tr, y_tr, eval_set=[(X_te, y_te)], verbose=0)\n",
    "    \n",
    "        f1_tr.append(f1_score(y_tr, clf.predict(X_tr), pos_label=1))\n",
    "        \n",
    "        f1_eval.append(f1_score(y_te, clf.predict(X_te), pos_label=1))\n",
    "    \n",
    "    print(sum(f1_eval)/len(f1_eval))\n",
    "    \n",
    "    y_train = [map_label[x] for x in y_train]\n",
    "    y_test = [map_label[x] for x in y_test]\n",
    "    \n",
    "    clf.fit(X_train.drop(columns=['gene_id']).astype(float), y_train, eval_set=[(X_test.drop(columns=['gene_id']).astype(float), y_test)], verbose=0)\n",
    "    \n",
    "    print(f1_score(y_train, clf.predict(X_train.drop(columns=['gene_id']).astype(float)),  pos_label=1))\n",
    "        \n",
    "    \n",
    "    print(f1_score(y_test, clf.predict(X_test.drop(columns=['gene_id']).astype(float)),  pos_label=1))\n",
    "    print(k)\n",
    "    print('=======================')\n",
    "    res.append([f1_score(y_train, clf.predict(X_train.drop(columns=[ 'gene_id']).astype(float)),  pos_label=1), \n",
    "                f1_score(y_test, clf.predict(X_test.drop(columns=[ 'gene_id']).astype(float)),  pos_label=1), k])\n",
    "\n",
    "\n"
   ]
  },
  {
   "cell_type": "code",
   "execution_count": null,
   "id": "566e49fb-2601-41ce-92fd-062c1eeb5be7",
   "metadata": {
    "scrolled": true
   },
   "outputs": [],
   "source": [
    "sorted_list = sorted(res, key=lambda x: x[1], reverse=True)\n",
    "sorted_list"
   ]
  },
  {
   "cell_type": "code",
   "execution_count": null,
   "id": "7415cccb-3020-4336-81a8-e15c026683d4",
   "metadata": {},
   "outputs": [],
   "source": [
    "from sklearn.ensemble import RandomForestClassifier\n",
    "from sklearn.metrics import confusion_matrix, ConfusionMatrixDisplay\n",
    "from sklearn.metrics import f1_score\n",
    "from sklearn.model_selection import GroupKFold\n",
    "from sklearn.linear_model import LogisticRegression\n",
    "from sklearn import svm\n",
    "from sklearn.neighbors import KNeighborsClassifier\n",
    "\n",
    "gkf_cv = GroupKFold(n_splits=5)\n",
    "f1_tr = []\n",
    "f1_eval = []\n",
    "\n",
    "X_train = X.iloc[train_ix]\n",
    "y_train = y.iloc[train_ix]\n",
    "X_test = X.iloc[test_ix]\n",
    "y_test = y.iloc[test_ix]\n",
    "\n",
    "for k in [1, 2, 3, 4, 5, 6, 7, 8, 9, 10, 11, 12, 13]:\n",
    "    for split, (ix_train, ix_test) in enumerate(gkf_cv.split(X_train.drop(columns=[ 'gene_id']).astype(float), groups=X_train['gene_id'])):\n",
    "        clf = KNeighborsClassifier(n_neighbors=k)\n",
    "        X_tr = X_train.drop(columns=[ 'gene_id']).iloc[ix_train]\n",
    "        y_tr = y_train.iloc[ix_train]\n",
    "        X_te = X_train.drop(columns=[ 'gene_id']).iloc[ix_test]\n",
    "        y_te = y_train.iloc[ix_test]\n",
    "        clf.fit(X_tr, y_tr)\n",
    "        \n",
    "        f1_tr.append(f1_score(y_tr, clf.predict(X_tr), pos_label='essential'))\n",
    "        f1_eval.append(f1_score(y_te, clf.predict(X_te), pos_label='essential'))\n",
    "\n",
    "    clf.fit(X_train.drop(columns=['gene_id']), y_train)\n",
    "    print(f1_score(y_train, clf.predict(X_train.drop(columns=['gene_id'])),  pos_label='essential'))\n",
    "        \n",
    "    cnf_test = confusion_matrix(y_test, clf.predict(X_test.drop(columns=[ 'gene_id'])))\n",
    "    disp = ConfusionMatrixDisplay(confusion_matrix=cnf_test,\n",
    "                                   display_labels=clf.classes_)\n",
    "    print(f1_score(y_test, clf.predict(X_test.drop(columns=[ 'gene_id'])),  pos_label='essential'))\n",
    "    \n",
    "    FP = cnf_test.sum(axis=0) - np.diag(cnf_test)  \n",
    "    FN = cnf_test.sum(axis=1) - np.diag(cnf_test)\n",
    "    TP = np.diag(cnf_test)\n",
    "    TN = cnf_test.sum() - (FP + FN + TP)\n",
    "    print(k)\n",
    "    print('False negative rate for testing is ' + str( FN/(TP+FN)))\n"
   ]
  },
  {
   "cell_type": "markdown",
   "id": "83d2738c-c274-4ed0-8859-13a026167131",
   "metadata": {},
   "source": [
    "# Perform feature engineering"
   ]
  },
  {
   "cell_type": "code",
   "execution_count": null,
   "id": "4f130821-4783-49a5-be50-8d3b5a505272",
   "metadata": {},
   "outputs": [],
   "source": [
    "cols = ['cellMass', 'growth', 'dryMass', 'waterMass', 'dnaMass', 'cytosol_mass',\n",
    "       'tRnaMass', 'extracellular_mass', 'rRnaMass', 'proteinMass',\n",
    "       'projection_mass', 'rnaMass', 'outer_membrane_mass', 'flagellum',\n",
    "       'pilus_mass', 'cellVolume', 'inner_membrane_mass', 'mRnaMass',\n",
    "       'smallMoleculeMass', 'instantaniousGrowthRate', 'membrane_mass',\n",
    "       'periplasm_mass']\n",
    "\n",
    "#this is for the cells that survive only for 1 time-step\n",
    "df_features2 = df_single[df_single['cellMass'].str.len().isna()]\n",
    "for c in cols:\n",
    "    df_features2[c] = df_features2[c].astype(float)\n",
    "    \n",
    "\n",
    "#this is for the cells that survive for more than 1 time-step\n",
    "df_features1 = df_single[~df_single['cellMass'].str.len().isna()]\n",
    "\n",
    "for c in cols:\n",
    "    df_features1[c] = df_features1[c].apply(lambda x:x[-1])\n",
    "\n",
    "\n",
    "        \n",
    "df_features = pd.concat([df_features1,df_features2])\n",
    "df_features['growth'] = df_features['growth'].fillna(0)\n",
    "df_features = df_features.drop(columns=['processMassDifferences', 'time'])"
   ]
  },
  {
   "cell_type": "code",
   "execution_count": null,
   "id": "74b6d30e-ec2c-41ae-ba53-42b8f4197672",
   "metadata": {
    "scrolled": true,
    "tags": []
   },
   "outputs": [],
   "source": [
    "import seaborn as sn\n",
    "\n",
    "corr_matrix = df_features.drop(columns=['label', 'cell_path', 'cell',\n",
    "       'gene_id', 'seed', 'label_death', \n",
    "       'label_lifetime', 'gene_name']).corr().abs()\n",
    "\n",
    "# Select upper triangle of correlation matrix\n",
    "upper = corr_matrix.where(np.triu(np.ones(corr_matrix.shape), k=1).astype(bool))\n",
    "\n",
    "# Find features with correlation greater than 0.95\n",
    "to_drop = [column for column in upper.columns if any(upper[column] > 0.95)]\n",
    "\n",
    "# Drop features \n",
    "df_features = df_features.drop(to_drop, axis=1)\n",
    "\n",
    "\n",
    "fig, ax = plt.subplots(figsize=(20,20))  \n",
    "svm = sn.heatmap(corr_matrix, annot=True,ax =ax,annot_kws={\"size\":16})\n",
    "\n",
    "plt.show()\n",
    "figure = svm.get_figure() \n",
    "figure.savefig('corr_matrix.png',bbox_inches=\"tight\")"
   ]
  },
  {
   "cell_type": "code",
   "execution_count": null,
   "id": "776fd140-e80d-41b5-a303-5ad4e0affc6b",
   "metadata": {},
   "outputs": [],
   "source": [
    "len(to_drop)"
   ]
  },
  {
   "cell_type": "markdown",
   "id": "ff8beaf3-52c8-4fae-b4e1-61f9df14b861",
   "metadata": {},
   "source": [
    "# RF classifier"
   ]
  },
  {
   "cell_type": "code",
   "execution_count": null,
   "id": "b060c4b4-76b4-41c2-bec7-35f232714d5d",
   "metadata": {},
   "outputs": [],
   "source": [
    "from sklearn.model_selection import GroupShuffleSplit\n",
    "plt.rcParams[\"figure.figsize\"] = (1.8, 2)\n",
    "\n",
    "X = df_features.drop([ 'label', 'cell', 'seed', 'instantaniousGrowthRate',\n",
    "                       'label_lifetime', 'generation'], axis=1)\n",
    "X.label_death = X.label_death.replace({'not_deadly': 'non_essential', 'deadly_gene': 'essential'})\n",
    "#based on an intial RF model, the following features seemed the most important to correctly classify\n",
    "X = X[['cellMass', 'dnaMass', 'membrane_mass', 'extracellular_mass', 'gene_id', 'cell_path', 'label_death', 'gene_name']]\n",
    "y=df_features.label_death.replace({'not_deadly': 'non_essential', 'deadly_gene': 'essential'})\n",
    "gs = GroupShuffleSplit(n_splits=1, train_size=0.8, random_state=6)\n",
    "\n",
    "gen = list(next(gs.split(X, y, groups=X.gene_id)))\n",
    "train_ix = gen[0]\n",
    "test_ix = gen[1]\n",
    "\n",
    "X_train = X.iloc[train_ix].drop(columns=['label_death'])\n",
    "y_train = y.iloc[train_ix]\n",
    "\n",
    "X_test = X.iloc[test_ix].drop(columns=['label_death'])\n",
    "y_test = y.iloc[test_ix]"
   ]
  },
  {
   "cell_type": "code",
   "execution_count": null,
   "id": "92c3d5ed-a26b-4132-8261-ef43c21d7945",
   "metadata": {},
   "outputs": [],
   "source": [
    "set(y_train)"
   ]
  },
  {
   "cell_type": "code",
   "execution_count": null,
   "id": "8a1e733d-9aee-4762-8557-d050a704125a",
   "metadata": {},
   "outputs": [],
   "source": [
    "y_train.value_counts()"
   ]
  },
  {
   "cell_type": "code",
   "execution_count": null,
   "id": "13d850f4-b940-47d9-92e2-46afa792a09e",
   "metadata": {},
   "outputs": [],
   "source": [
    "y_test.value_counts()"
   ]
  },
  {
   "cell_type": "code",
   "execution_count": null,
   "id": "33d64b57-36e5-4de7-8971-a03414a49978",
   "metadata": {
    "scrolled": true
   },
   "outputs": [],
   "source": [
    "with open(\"trainig_genes.csv\", \"w\") as output:\n",
    "    output.write(str(list(set(X_train['gene_name']))))\n",
    "with open(\"testing_genes.csv\", \"w\") as output:\n",
    "    output.write(str(list(set(X_test['gene_name']))))"
   ]
  },
  {
   "cell_type": "code",
   "execution_count": null,
   "id": "c3e4d747-afa0-472a-bb9f-121ecd48f40b",
   "metadata": {
    "tags": []
   },
   "outputs": [],
   "source": [
    "from sklearn.ensemble import RandomForestClassifier\n",
    "from sklearn.metrics import confusion_matrix, ConfusionMatrixDisplay\n",
    "from sklearn.metrics import f1_score\n",
    "from sklearn.model_selection import GroupKFold\n",
    "from sklearn.linear_model import LogisticRegression\n",
    "import matplotlib\n",
    "colors = matplotlib.colors.ListedColormap(matplotlib.cm.get_cmap(\"tab20\").colors[:4])\n",
    "\n",
    "gkf_cv = GroupKFold(n_splits=5)\n",
    "f1_tr = []\n",
    "f1_eval = []\n",
    "for split, (ix_train, ix_test) in enumerate(gkf_cv.split(X_train.drop(columns=['cell_path', 'gene_id', 'gene_name']).astype(float), groups=X_train['gene_id'])):\n",
    "    \n",
    "\n",
    "    clf = RandomForestClassifier(max_depth=4, n_estimators=3, random_state=0)\n",
    "    X_tr = X_train.drop(columns=['cell_path', 'gene_id', 'gene_name']).iloc[ix_train]\n",
    "    y_tr = y_train.iloc[ix_train]\n",
    "    X_te = X_train.drop(columns=['cell_path', 'gene_id', 'gene_name']).iloc[ix_test]\n",
    "    y_te = y_train.iloc[ix_test]\n",
    "    clf.fit(X_tr, y_tr)\n",
    "    cnf1 = confusion_matrix(y_tr, clf.predict(X_tr))\n",
    "    disp = ConfusionMatrixDisplay(confusion_matrix=cnf1,\n",
    "                               display_labels=clf.classes_)\n",
    "    f1_tr.append(f1_score(y_tr, clf.predict(X_tr), pos_label='essential'))\n",
    "    cnf2 = confusion_matrix(y_te, clf.predict(X_te))\n",
    "    disp = ConfusionMatrixDisplay(confusion_matrix=cnf2,\n",
    "                               display_labels=clf.classes_)\n",
    "    f1_eval.append(f1_score(y_te, clf.predict(X_te), pos_label='essential'))\n",
    "\n",
    "print('AVG cross-validation F1-score ', sum(f1_eval)/len(f1_eval))\n",
    "clf.fit(X_train.drop(columns=['cell_path', 'gene_id', 'gene_name']), y_train)\n",
    "print('Confussion matrix for the training set')\n",
    "cnf_tr = confusion_matrix(y_train, clf.predict(X_train.drop(columns=['cell_path', 'gene_id', 'gene_name'])))\n",
    "disp = ConfusionMatrixDisplay(confusion_matrix=cnf_tr,\n",
    "                               display_labels=['Deadly KO', 'Non-deadly KO'])\n",
    "print(cnf_tr)\n",
    "disp.plot(cmap=colors, xticks_rotation='vertical')\n",
    "plt.show()\n",
    "disp.figure_.savefig('confusion_matrix_training_init.png', bbox_inches=\"tight\", dpi=600)\n",
    "\n",
    "print('Training data F1-score ', f1_score(y_train, clf.predict(X_train.drop(columns=['cell_path', 'gene_id', 'gene_name'])),  pos_label='essential'))\n",
    "    \n",
    "print('Confusion matrix for the test set')\n",
    "cnf_test = confusion_matrix(y_test, clf.predict(X_test.drop(columns=['cell_path', 'gene_id', 'gene_name'])))\n",
    "print(cnf_test)\n",
    "disp = ConfusionMatrixDisplay(confusion_matrix=cnf_test,\n",
    "                               display_labels=['Deadly KO', 'Non-deadly KO'])\n",
    "disp.plot(cmap=colors, xticks_rotation='vertical')\n",
    "plt.show()\n",
    "disp.figure_.savefig('confusion_matrix_test_init.png', bbox_inches=\"tight\", dpi=600)\n",
    "print('F1 score for the test set is ' + str(f1_score(y_test, clf.predict(X_test.drop(columns=['cell_path', 'gene_id', 'gene_name'])),  pos_label='essential')))"
   ]
  },
  {
   "cell_type": "code",
   "execution_count": null,
   "id": "94142521-6fdf-4c83-a191-8f661f7675b4",
   "metadata": {
    "scrolled": true,
    "tags": []
   },
   "outputs": [],
   "source": [
    "plt.rcParams[\"figure.figsize\"] = (1.8, 2)\n",
    "features = X_train.columns\n",
    "f_i = list(zip(features, clf.feature_importances_))\n",
    "f_i.sort(key = lambda x : x[1], reverse=False)\n",
    "\n",
    "plt.barh(*zip(*f_i), )\n",
    "plt.xticks(rotation = 'horizontal',fontsize=12)\n",
    "plt.yticks(fontsize=12)\n",
    "plt.xlabel('Feature importance', fontsize=12)\n",
    "plt.savefig('feat_importance_rf_init.png', bbox_inches=\"tight\")\n",
    "plt.savefig('feat_importance_rf_init.eps', bbox_inches=\"tight\", format='eps')\n",
    "plt.show()"
   ]
  },
  {
   "cell_type": "code",
   "execution_count": null,
   "id": "c22dc71d-52ba-4504-bfcd-8edcf93a87ce",
   "metadata": {
    "tags": []
   },
   "outputs": [],
   "source": [
    "import shap\n",
    "# compute SHAP values\n",
    "explainer = shap.TreeExplainer(clf)\n",
    "shap_values = explainer.shap_values(X_train.drop(columns=['cell_path', 'gene_id', 'gene_name']))\n",
    "\n",
    "shap.summary_plot(shap_values[0], X_train.drop(columns=['cell_path', 'gene_id', 'gene_name']).values,   feature_names = list(X_train.drop(columns=['cell_path', 'gene_id', 'gene_name']).columns), show=False)\n",
    "\n",
    "plt.savefig('shap_init.png', dpi=600,bbox_inches=\"tight\")\n",
    "plt.savefig('shap_init.eps', bbox_inches=\"tight\", format='eps')"
   ]
  },
  {
   "cell_type": "code",
   "execution_count": null,
   "id": "4f7e29fb-a7ba-4967-bfc1-de21e1ab0034",
   "metadata": {},
   "outputs": [],
   "source": [
    "#Check which points are miss-classified\n",
    "predictions = clf.predict(X_train.drop(columns=['cell_path', 'gene_id', 'gene_name']).values)\n",
    "inputs = X_train['cell_path']\n",
    "labels=y_train\n",
    "wrong_class_gene = []\n",
    "for input, prediction, label in zip(inputs, predictions, labels):\n",
    "    if prediction != label:\n",
    "        try:\n",
    "            wrong_class_gene.append(input.split('/')[5].split('_')[3])\n",
    "            print(input.split('/')[5].split('_')[3], 'has been classified as ', prediction, 'and should be ', label)\n",
    "        except:\n",
    "            wrong_class_gene.append(input.split('/')[9].split('_')[3])\n",
    "            print(input.split('/')[9].split('_')[3], 'has been classified as ', prediction, 'and should be ', label)\n",
    "\n",
    "                   \n",
    "    "
   ]
  },
  {
   "cell_type": "code",
   "execution_count": null,
   "id": "b6d992c3-7f6d-40eb-ad41-f23e2e82d53c",
   "metadata": {},
   "outputs": [],
   "source": [
    "#Check which points are miss-classified\n",
    "predictions = clf.predict(X_test.drop(columns=['cell_path', 'gene_id', 'gene_name']).values)\n",
    "inputs = X_test['cell_path']\n",
    "labels=y_test\n",
    "wrong_class_gene = []\n",
    "for input, prediction, label in zip(inputs, predictions, labels):\n",
    "    if prediction != label:\n",
    "        try:\n",
    "            wrong_class_gene.append(input.split('/')[5].split('_')[3])\n",
    "            print(input.split('/')[5].split('_')[3], 'has been classified as ', prediction, 'and should be ', label)\n",
    "        except:\n",
    "            wrong_class_gene.append(input.split('/')[9].split('_')[3])\n",
    "            print(input.split('/')[9].split('_')[3], 'has been classified as ', prediction, 'and should be ', label)\n",
    "\n",
    "                   \n",
    "    "
   ]
  },
  {
   "cell_type": "code",
   "execution_count": null,
   "id": "ee9d2182-98fc-46a8-91b2-2a88a81e2349",
   "metadata": {},
   "outputs": [],
   "source": [
    "# save the model to disk\n",
    "filename = 'rf_model_surrogate.sav'\n",
    "pickle.dump(clf, open(filename, 'wb'))"
   ]
  },
  {
   "cell_type": "markdown",
   "id": "2829dcaf-40b3-4c56-83f5-17df1c0949e1",
   "metadata": {},
   "source": [
    "## Test on double KOs"
   ]
  },
  {
   "cell_type": "code",
   "execution_count": null,
   "id": "1e350a70-17ec-4fbe-873b-166dac6999f3",
   "metadata": {},
   "outputs": [],
   "source": [
    "cols = ['cellMass', 'growth', 'dryMass', 'waterMass', 'dnaMass', 'cytosol_mass',\n",
    "       'tRnaMass', 'extracellular_mass', 'rRnaMass', 'proteinMass',\n",
    "       'projection_mass', 'rnaMass', 'outer_membrane_mass', 'flagellum',\n",
    "       'pilus_mass', 'cellVolume', 'inner_membrane_mass', 'mRnaMass',\n",
    "       'smallMoleculeMass', 'instantaniousGrowthRate', 'membrane_mass',\n",
    "       'periplasm_mass']\n",
    "\n",
    "#this is for the cells that survive only for 1 time-step\n",
    "df_double1 = df_double[df_double['cellMass'].str.len().isna()]\n",
    "for c in cols:\n",
    "    df_double1[c] = df_double1[c].astype(float)\n",
    "    \n",
    "\n",
    "#this is for the cells that survive for more than 1 time-step\n",
    "df_double2 = df_double[~df_double['cellMass'].str.len().isna()]\n",
    "\n",
    "for c in cols:\n",
    "    df_double2[c] = df_double2[c].apply(lambda x:x[-1])\n",
    "\n",
    "\n",
    "        \n",
    "df_double_feat = pd.concat([df_double1, df_double2])\n",
    "df_double_feat['growth'] = df_double_feat['growth'].fillna(0)\n",
    "df_double_feat = df_double_feat.drop(columns=['processMassDifferences', 'time'])"
   ]
  },
  {
   "cell_type": "code",
   "execution_count": null,
   "id": "785aa76e-3686-4d6f-a563-b231a3086532",
   "metadata": {},
   "outputs": [],
   "source": [
    "df_double_label = df_double_feat['label_death'].replace({'not_deadly': 'non_essential', 'deadly_gene': 'essential'})\n",
    "df_double_feat = df_double_feat[['cellMass', 'dnaMass', 'membrane_mass', 'extracellular_mass']]"
   ]
  },
  {
   "cell_type": "code",
   "execution_count": null,
   "id": "fb74a890-f4fc-4b9c-affc-4e07c7b6aa88",
   "metadata": {},
   "outputs": [],
   "source": [
    "cnf_double = confusion_matrix(df_double_label, clf.predict(df_double_feat))\n",
    "disp = ConfusionMatrixDisplay(confusion_matrix=cnf_double,\n",
    "                               display_labels=['Deadly KO', 'Non-deadly KO'])\n",
    "print(cnf_double)\n",
    "disp.plot(cmap=colors, xticks_rotation='vertical', )\n",
    "disp.figure_.savefig('confusion_matrix_doubleKO_init.png', bbox_inches=\"tight\", dpi=600)\n"
   ]
  },
  {
   "cell_type": "code",
   "execution_count": null,
   "id": "608d32f5-41f2-438f-820d-12cb8fe7849a",
   "metadata": {},
   "outputs": [],
   "source": [
    "print('F1-score on the double KOs is ' + str(f1_score(df_double_label, clf.predict(df_double_feat),  pos_label='essential')))"
   ]
  },
  {
   "cell_type": "markdown",
   "id": "ba3c41eb",
   "metadata": {},
   "source": [
    "# Test on multiple KOs"
   ]
  },
  {
   "cell_type": "markdown",
   "id": "1bc4904a-1df8-45f4-bcad-9064956a9d27",
   "metadata": {},
   "source": [
    "## Apply model"
   ]
  },
  {
   "cell_type": "code",
   "execution_count": null,
   "id": "cb50cc69-a497-452b-87cb-c0fd9fae0f1d",
   "metadata": {},
   "outputs": [],
   "source": [
    "from itertools import chain\n",
    "df_multiple_test = pd.read_pickle('/home/ig13470/Documents/WCM_data/df_multiple_test_perms_final.pkl')\n",
    "df_multiple_train = pd.read_pickle('/home/ig13470/Documents/WCM_data/df_multiple_train_perms_final.pkl')\n"
   ]
  },
  {
   "cell_type": "code",
   "execution_count": null,
   "id": "ef7dee9e-66c0-4a34-9f6a-538a575d794c",
   "metadata": {},
   "outputs": [],
   "source": [
    "df_multiple_train = df_multiple_train.drop_duplicates(subset='Combos')\n",
    "df_multiple_test = df_multiple_test.drop_duplicates(subset='Combos')\n"
   ]
  },
  {
   "cell_type": "code",
   "execution_count": null,
   "id": "f1a8dc9d-511a-4a84-b4c7-a4a2dbb1d2fb",
   "metadata": {
    "scrolled": true
   },
   "outputs": [],
   "source": [
    "set(list(chain(*[x.split() for x in list(df_multiple_train['Combos'])])))"
   ]
  },
  {
   "cell_type": "code",
   "execution_count": null,
   "id": "8a0d0a40-7090-4538-99c7-c2f64bc2774d",
   "metadata": {},
   "outputs": [],
   "source": [
    "set(list(chain(*[x.split() for x in list(df_multiple_test['Combos'])])))"
   ]
  },
  {
   "cell_type": "code",
   "execution_count": null,
   "id": "54656191-4239-43b3-bca6-405733e89bf1",
   "metadata": {},
   "outputs": [],
   "source": [
    "df_multiple = pd.concat([df_multiple_train, df_multiple_test])\n",
    "df_multiple = df_multiple.rename(columns={\"label\": \"label_death\"})\n",
    "df_multiple_label = df_multiple['label_death'].replace({'not_deadly': 'non_essential', 'deadly_gene': 'essential'})\n",
    "df_multiple_feat = df_multiple[['cellMass', 'dnaMass', 'membrane_mass', 'extracellular_mass']]"
   ]
  },
  {
   "cell_type": "code",
   "execution_count": null,
   "id": "eaa3fdfe-d189-46ea-9de3-daf895f7575f",
   "metadata": {},
   "outputs": [],
   "source": [
    "plt.rcParams[\"figure.figsize\"] = (1.8, 2)\n",
    "font = {'weight' : 'normal', 'size':14} \n",
    "plt.rc('font', **font)   \n",
    "cnf_multiple = confusion_matrix(df_multiple_label, clf.predict(df_multiple_feat))\n",
    "disp = ConfusionMatrixDisplay(confusion_matrix=cnf_multiple,\n",
    "                               display_labels=['Deadly KO', 'Non-deadly KO'])\n",
    "print(cnf_multiple)\n",
    "disp.plot(cmap=colors, xticks_rotation='vertical', )\n",
    "disp.figure_.savefig('confusion_matrix_multipleKO_init.png', bbox_inches=\"tight\", dpi=600)\n"
   ]
  },
  {
   "cell_type": "code",
   "execution_count": null,
   "id": "68c518c0-07eb-433f-9285-a2286f4ed6e0",
   "metadata": {},
   "outputs": [],
   "source": [
    "print('F1-score on the multiple KOs is ' + str(f1_score(df_multiple_label, clf.predict(df_multiple_feat),  pos_label='essential')))"
   ]
  },
  {
   "cell_type": "markdown",
   "id": "01376576-02d9-4322-ba7c-0c1dfcbe9ac0",
   "metadata": {},
   "source": [
    "## Plot the data for different data sets"
   ]
  },
  {
   "cell_type": "code",
   "execution_count": null,
   "id": "f9c9ef3e-ceca-4b05-aa7f-c999dce797a3",
   "metadata": {},
   "outputs": [],
   "source": [
    "df_multiple = pd.concat([df_multiple_test, df_multiple_train])\n",
    "df_multiple_label = df_multiple['label'].replace({'not_deadly': 'non_essential', 'deadly_gene': 'essential'})\n",
    "df_minesweeper = df_multiple.copy()[['cellMass', 'dnaMass', 'membrane_mass', 'extracellular_mass', 'label']]"
   ]
  },
  {
   "cell_type": "code",
   "execution_count": null,
   "id": "447cf7b6-36e7-4b59-9015-b6b1e1fce195",
   "metadata": {
    "scrolled": true,
    "tags": []
   },
   "outputs": [],
   "source": [
    "font = {'weight' : 'normal', 'size':12} \n",
    "plt.rc('font', **font)                                                                                          \n",
    "plt.rcParams[\"figure.figsize\"] = (6.61,2.3)\n",
    "\n",
    "\n",
    "df_deadly_single = df_single[df_single[\"label_death\"]=='deadly_gene'][['dnaMass', 'cellMass']]\n",
    "df_not_deadly_single = df_single[df_single[\"label_death\"]=='not_deadly'][['dnaMass', 'cellMass']]\n",
    "\n",
    "df_deadly_double = df_double[df_double[\"label_death\"]=='deadly_gene'][['dnaMass', 'cellMass']]\n",
    "df_not_deadly_double = df_double[df_double[\"label_death\"]=='not_deadly'][['dnaMass', 'cellMass']]\n",
    "\n",
    "df_deadly_multi = df_minesweeper[df_minesweeper[\"label\"]=='deadly_gene'][['dnaMass', 'cellMass']].dropna().astype(float)\n",
    "df_not_deadly_multi = df_minesweeper[df_minesweeper[\"label\"]=='not_deadly'][['dnaMass', 'cellMass']].dropna().astype(float)\n",
    "\n",
    "\n",
    "fig, (ax1, ax2, ax3) = plt.subplots(1, 3)\n",
    "#plt.figure(figsize=(4.91, 2.41))\n",
    "\n",
    "\n",
    "ax1.scatter(df_deadly_single['cellMass'].str[-1], df_deadly_single['dnaMass'].str[-1], c='darkorange', s=50, alpha=0.2, marker='o')\n",
    "ax1.scatter(df_not_deadly_single['cellMass'].str[-1], df_not_deadly_single['dnaMass'].str[-1], c='b', s=50, alpha = 0.2, marker='x')\n",
    "ax1.set_xlim(1500,3000)\n",
    "ax1.set_ylim(8,14)\n",
    "ax1.set_xlabel('Cell mass (fg)')\n",
    "ax1.set_title('Single-gene KOs', fontsize=12)\n",
    "ax1.tick_params(axis='both', which='major', labelsize=12)\n",
    "\n",
    "\n",
    "ax2.scatter(df_deadly_double['cellMass'].str[-1], df_deadly_double['dnaMass'].str[-1], c='darkorange', s=50, alpha=0.2, marker='o')\n",
    "ax2.scatter(df_not_deadly_double['cellMass'].str[-1], df_not_deadly_double['dnaMass'].str[-1], c='b', s=50, alpha = 0.2, marker='x')\n",
    "ax2.scatter(df_not_deadly_double['cellMass'].iloc[0][-1], df_not_deadly_double['dnaMass'].iloc[0][-1], c='b', s=50, alpha = 0.8, marker='x', label='Non-deadly KO')\n",
    "ax2.scatter(df_deadly_double['cellMass'].iloc[0][-1], df_deadly_double['dnaMass'].iloc[0][-1], c='darkorange', s=50, alpha=0.8, marker='o', label='Deadly KO')\n",
    "ax2.set_xlim(1500,3000)\n",
    "ax2.set_ylim(8,14)\n",
    "ax2.set_xlabel('Cell mass (fg)')\n",
    "ax2.set_title('Double-gene KOs', fontsize=12)\n",
    "ax2.tick_params(axis='both', which='major', labelsize=12)\n",
    "\n",
    "print(df_deadly_multi['cellMass'])\n",
    "ax3.scatter(df_deadly_multi['cellMass'], df_deadly_multi['dnaMass'], c='darkorange', s=50, alpha=0.2, marker='o')\n",
    "ax3.scatter(df_not_deadly_multi['cellMass'], df_not_deadly_multi['dnaMass'], c='b', s=50, alpha = 0.2, marker='x')\n",
    "ax3.scatter(df_deadly_multi['cellMass'].iloc[0], df_deadly_multi['dnaMass'].iloc[0], c='b', s=50, alpha = 0.8, marker='x', label='Non-deadly KO')\n",
    "ax3.scatter(df_not_deadly_multi['cellMass'].iloc[0], df_not_deadly_multi['dnaMass'].iloc[0], c='darkorange', s=50, alpha=0.8, marker='o', label='Deadly KO')\n",
    "ax3.set_xlim(1500,3000)\n",
    "ax3.set_ylim(8,14)\n",
    "ax3.set_xlabel('Cell mass (fg)')\n",
    "ax3.set_title('Multiple-gene KOs', fontsize=12)\n",
    "ax3.tick_params(axis='both', which='major', labelsize=12)\n",
    "ax3.legend(loc='lower right', fontsize=8.5)\n",
    "\n",
    "fig.tight_layout()\n",
    "#fig.text(0.5, 0.015, 'Cell mass (fg)', ha='center', fontsize ='medium')\n",
    "fig.text(0, 0.5, 'DNA mass (fg)', va='center', rotation='vertical', fontsize='medium')\n",
    "fig.savefig('top_feat_distrib.png', dpi=800)"
   ]
  },
  {
   "cell_type": "markdown",
   "id": "6a191bc2-22c0-44d5-ab1d-760fe6f49cc0",
   "metadata": {},
   "source": [
    "# Train with multiple KOs added to training set"
   ]
  },
  {
   "cell_type": "code",
   "execution_count": null,
   "id": "4b0a5e29-ff3f-4524-a91b-9eede4acc03c",
   "metadata": {},
   "outputs": [],
   "source": [
    "df_multiple_train = df_multiple_train.drop_duplicates(subset=[\"cell_path\"])\n"
   ]
  },
  {
   "cell_type": "code",
   "execution_count": null,
   "id": "ba884dd5-00aa-426a-897f-5eb1f454cda2",
   "metadata": {},
   "outputs": [],
   "source": [
    "df_multiple_train[df_multiple_train['KO_id'].isna()]['cell_path']"
   ]
  },
  {
   "cell_type": "code",
   "execution_count": null,
   "id": "1916f5a9-eb15-47ac-ab97-05bc7138815a",
   "metadata": {},
   "outputs": [],
   "source": [
    "combos_genes = pd.read_csv('/home/ig13470/Documents/5_percent_segments.csv', sep='\\t', header=None)\n",
    "combos_genes = combos_genes.rename(columns={0: \"Segment\", 1: \"Genes\"})"
   ]
  },
  {
   "cell_type": "code",
   "execution_count": null,
   "id": "3d0438f1-6e5d-4b28-bec6-8873b038453b",
   "metadata": {
    "scrolled": true
   },
   "outputs": [],
   "source": [
    "for ind, row in df_multiple_train.iterrows():\n",
    "    genes = []\n",
    "    for segment in row['Combos'].split(' '):\n",
    "        genes.extend(combos_genes[combos_genes['Segment']==segment]['Genes'].values[0].split(' '))\n",
    "    df_multiple_train.loc[ind, 'Genes'] = str(genes[:-1])"
   ]
  },
  {
   "cell_type": "code",
   "execution_count": null,
   "id": "c9d041f9-8e0e-4b7c-8d6c-7b2bac59bd09",
   "metadata": {},
   "outputs": [],
   "source": [
    "df_multiple_train.to_csv('multiple_ko_train.csv')"
   ]
  },
  {
   "cell_type": "code",
   "execution_count": null,
   "id": "ecc04304-8db0-46db-8359-3ce679402566",
   "metadata": {},
   "outputs": [],
   "source": [
    "df_multiple_train = df_multiple_train.rename(columns={\"label\": \"label_death\"})\n",
    "df_multiple_train = df_multiple_train[['cellMass', 'growth', 'dnaMass', 'tRnaMass', 'extracellular_mass',\n",
    "                                       'proteinMass', 'projection_mass', 'pilus_mass', 'mRnaMass',\n",
    "                                       'smallMoleculeMass', 'instantaniousGrowthRate', 'membrane_mass',\n",
    "                                        'label_death', 'cell_path']]"
   ]
  },
  {
   "cell_type": "code",
   "execution_count": null,
   "id": "7374554a-fde6-4132-aa46-7b3153308068",
   "metadata": {},
   "outputs": [],
   "source": [
    "df_multiple_train = df_multiple_train[~df_multiple_train.isna().any(axis=1)]\n",
    "df_multiple_train['label_death'] = df_multiple_train['label_death'].replace({'not_deadly': 'non_essential', 'deadly_gene': 'essential'})\n"
   ]
  },
  {
   "cell_type": "code",
   "execution_count": null,
   "id": "5d582cb3-5e23-463c-b3ee-ca28a6355cb7",
   "metadata": {},
   "outputs": [],
   "source": [
    "font = {'weight' : 'normal', 'size':20} \n",
    "plt.rc('font', **font)    \n",
    "plt.rcParams[\"figure.figsize\"] = (2.45, 2.45)\n"
   ]
  },
  {
   "cell_type": "code",
   "execution_count": null,
   "id": "0b1b1129-2938-4d36-b945-9cc8b5a067ca",
   "metadata": {},
   "outputs": [],
   "source": [
    "from sklearn.model_selection import GroupShuffleSplit\n",
    "\n",
    "X = df_features.drop([ 'label', 'cell', 'seed', 'instantaniousGrowthRate',\n",
    "                       'label_lifetime', 'generation', 'gene_name'], axis=1)\n",
    "y=df_features.label_death.replace({'not_deadly': 'non_essential', 'deadly_gene': 'essential'})\n",
    "gs = GroupShuffleSplit(n_splits=1, train_size=0.8, random_state=6)\n",
    "\n",
    "gen = list(next(gs.split(X, y, groups=X.gene_id)))\n",
    "train_ix = gen[0]\n",
    "test_ix = gen[1]\n",
    "\n",
    "X_train = X.iloc[train_ix].drop(columns=['label_death'])\n",
    "y_train = y.iloc[train_ix]\n",
    "\n",
    "X_test = X.iloc[test_ix].drop(columns=['label_death'])\n",
    "y_test = y.iloc[test_ix]"
   ]
  },
  {
   "cell_type": "code",
   "execution_count": null,
   "id": "1cd453a8-4e9a-43bb-8534-2f15959b0fa5",
   "metadata": {},
   "outputs": [],
   "source": [
    "y_train.value_counts()"
   ]
  },
  {
   "cell_type": "code",
   "execution_count": null,
   "id": "d47ed84a-9f73-4e0f-aef3-64a5220d9786",
   "metadata": {},
   "outputs": [],
   "source": [
    "y_test.value_counts()"
   ]
  },
  {
   "cell_type": "code",
   "execution_count": null,
   "id": "c294eea4-23ef-48a8-9cdb-c113ef96ae7d",
   "metadata": {},
   "outputs": [],
   "source": [
    "df_multiple_X = df_multiple_train[['cellMass', 'growth', 'dnaMass', 'tRnaMass', 'extracellular_mass',\n",
    "       'proteinMass', 'projection_mass', 'pilus_mass', 'mRnaMass',\n",
    "       'smallMoleculeMass', 'membrane_mass']]\n",
    "df_multiple_y = df_multiple_train['label_death']"
   ]
  },
  {
   "cell_type": "code",
   "execution_count": null,
   "id": "895aab07-121f-4903-b7d8-22a89ebc2013",
   "metadata": {},
   "outputs": [],
   "source": [
    "from sklearn.utils import shuffle\n",
    "\n",
    "X_train = pd.concat([df_multiple_X, X_train])\n",
    "y_train = pd.concat([df_multiple_y, y_train])\n",
    "\n"
   ]
  },
  {
   "cell_type": "code",
   "execution_count": null,
   "id": "90197aab-0240-43d0-b5b4-b3dccfce7c6a",
   "metadata": {},
   "outputs": [],
   "source": [
    "X_train.columns"
   ]
  },
  {
   "cell_type": "code",
   "execution_count": null,
   "id": "4e4d7c54-fca7-4445-a112-85fc2ce2b13b",
   "metadata": {},
   "outputs": [],
   "source": [
    "\n",
    "df_multiple_label_test = df_multiple_test['label'].replace({'not_deadly': 'non_essential', 'deadly_gene': 'essential'})\n",
    "df_multiple_test = df_multiple_test[['cellMass', 'growth', 'dnaMass', 'tRnaMass', 'extracellular_mass',\n",
    "       'proteinMass', 'projection_mass', 'pilus_mass', 'mRnaMass',\n",
    "       'smallMoleculeMass', 'membrane_mass']]"
   ]
  },
  {
   "cell_type": "code",
   "execution_count": null,
   "id": "d76c288a-72c7-45eb-9366-902482c93a6e",
   "metadata": {},
   "outputs": [],
   "source": [
    "y_train.value_counts()"
   ]
  },
  {
   "cell_type": "code",
   "execution_count": null,
   "id": "58de307a-c9b4-40a9-a72a-a7024af5a62c",
   "metadata": {
    "tags": []
   },
   "outputs": [],
   "source": [
    "from sklearn.ensemble import RandomForestClassifier\n",
    "from sklearn.metrics import confusion_matrix, ConfusionMatrixDisplay\n",
    "from sklearn.metrics import f1_score\n",
    "from sklearn.model_selection import GroupKFold\n",
    "from sklearn.linear_model import LogisticRegression\n",
    "import itertools\n",
    "\n",
    "tr_acc=[]\n",
    "test_single_acc= []\n",
    "test_multiple_acc = []\n",
    "hyperparams = []\n",
    "\n",
    "#for x in itertools.product(list(range(2,20)), list(range(2,20))):\n",
    "#    hyperparams.append(x)\n",
    "clf = RandomForestClassifier(max_depth=6, n_estimators=3, random_state=0, class_weight='balanced')\n",
    "clf.fit(X_train.drop(columns=['cell_path', 'gene_id']), y_train)\n",
    "\n",
    "print('Confussion matrix for the training set')\n",
    "cnf_tr = confusion_matrix(y_train, clf.predict(X_train.drop(columns=['cell_path', 'gene_id'])))\n",
    "disp = ConfusionMatrixDisplay(confusion_matrix=cnf_tr,\n",
    "                               display_labels=['Deadly KO', 'Non-deadly KO'])\n",
    "\n",
    "disp.plot(cmap=colors, xticks_rotation='vertical')\n",
    "disp.figure_.savefig('confusion_matrix_training_retrained.png', bbox_inches=\"tight\", dpi=600)\n",
    "plt.show()\n",
    "print('F1-score training ', f1_score(y_train, clf.predict(X_train.drop(columns=['cell_path', 'gene_id'])),  pos_label='essential'))\n",
    "tr_acc.append(f1_score(y_train, clf.predict(X_train.drop(columns=['cell_path', 'gene_id'])),  pos_label='essential'))\n",
    "print('confusion matrix for the test set')\n",
    "cnf_test = confusion_matrix(y_test, clf.predict(X_test.drop(columns=['cell_path', 'gene_id'])))\n",
    "disp = ConfusionMatrixDisplay(confusion_matrix=cnf_test,\n",
    "                               display_labels=['Deadly KO', 'Non-deadly KO'])\n",
    "\n",
    "disp.plot(cmap=colors, xticks_rotation='vertical')\n",
    "disp.figure_.savefig('confusion_matrix_test_retrained.png', bbox_inches=\"tight\", dpi=600)\n",
    "plt.show()\n",
    "print('F1 score for the test set is ' + str(f1_score(y_test, clf.predict(X_test.drop(columns=['cell_path', 'gene_id'])),  pos_label='essential')))\n",
    "test_single_acc.append(f1_score(y_test, clf.predict(X_test.drop(columns=['cell_path', 'gene_id'])),  pos_label='essential'))\n",
    "\n",
    "print('F1 score for the multiple set is ' + str(f1_score(df_multiple_label_test, clf.predict(df_multiple_test),  pos_label='essential')))\n",
    "test_multiple_acc.append(f1_score(df_multiple_label_test, clf.predict(df_multiple_test),  pos_label='essential'))"
   ]
  },
  {
   "cell_type": "code",
   "execution_count": null,
   "id": "c1a07f33-6cd3-4c50-94de-f73f1a725982",
   "metadata": {
    "tags": []
   },
   "outputs": [],
   "source": [
    "plt.rcParams[\"figure.figsize\"] = (8, 2.32)\n",
    "\n",
    "features = X_train.columns\n",
    "f_i = list(zip(features,clf.feature_importances_))\n",
    "f_i.sort(key = lambda x : x[1], reverse=True)\n",
    "to_d = [t[0] for t in f_i if t[1]==0]\n",
    "top_30 = [t[0] for t in f_i[:10]]\n",
    "plt.bar(*zip(*f_i))\n",
    "plt.xticks(rotation=90, fontsize=12)\n",
    "plt.yticks(fontsize=12)\n",
    "plt.ylabel('Feature importance', fontsize=12)\n",
    "plt.savefig('feat_importance_rf_retrained.png', bbox_inches=\"tight\")\n",
    "plt.savefig('feat_importance_rf_retrained.eps', bbox_inches=\"tight\", format='eps')\n",
    "plt.show()"
   ]
  },
  {
   "cell_type": "markdown",
   "id": "b0462313",
   "metadata": {},
   "source": [
    "# Test on double KOs"
   ]
  },
  {
   "cell_type": "code",
   "execution_count": null,
   "id": "609fe887",
   "metadata": {},
   "outputs": [],
   "source": [
    "cols = ['cellMass', 'growth', 'dryMass', 'waterMass', 'dnaMass', 'cytosol_mass',\n",
    "       'tRnaMass', 'extracellular_mass', 'rRnaMass', 'proteinMass',\n",
    "       'projection_mass', 'rnaMass', 'outer_membrane_mass', 'flagellum',\n",
    "       'pilus_mass', 'cellVolume', 'inner_membrane_mass', 'mRnaMass',\n",
    "       'smallMoleculeMass', 'instantaniousGrowthRate', 'membrane_mass',\n",
    "       'periplasm_mass']\n",
    "\n",
    "#this is for the cells that survive only for 1 time-step\n",
    "df_double1 = df_double[df_double['cellMass'].str.len().isna()]\n",
    "for c in cols:\n",
    "    df_double1[c] = df_double1[c].astype(float)\n",
    "    \n",
    "\n",
    "#this is for the cells that survive for more than 1 time-step\n",
    "df_double2 = df_double[~df_double['cellMass'].str.len().isna()]\n",
    "\n",
    "for c in cols:\n",
    "    df_double2[c] = df_double2[c].apply(lambda x:x[-1])\n",
    "\n",
    "\n",
    "        \n",
    "df_double_feat = pd.concat([df_double1, df_double2])\n",
    "df_double_feat['growth'] = df_double_feat['growth'].fillna(0)\n",
    "df_double_feat = df_double_feat.drop(columns=['processMassDifferences', 'time'])[['cellMass', 'growth', 'dnaMass', 'tRnaMass', 'extracellular_mass',\n",
    "       'proteinMass', 'projection_mass', 'pilus_mass', 'mRnaMass',\n",
    "       'smallMoleculeMass', 'membrane_mass']]\n",
    "\n"
   ]
  },
  {
   "cell_type": "code",
   "execution_count": null,
   "id": "25a6d48b-4a78-496c-a015-892142b701e1",
   "metadata": {
    "tags": []
   },
   "outputs": [],
   "source": [
    "\n",
    "cnf_double = confusion_matrix(df_double_label, clf.predict(df_double_feat))\n",
    "disp = ConfusionMatrixDisplay(confusion_matrix=cnf_double,\n",
    "                               display_labels=['Deadly KO', 'Non-deadly KO'])\n",
    "print(cnf_double)\n",
    "disp.plot(cmap=colors, xticks_rotation='vertical', )\n",
    "disp.figure_.savefig('confusion_matrix_doubleKO_retrain.png', bbox_inches=\"tight\", dpi=600)\n",
    "\n",
    "print('F1 score for the double set is ' + str(f1_score(df_double_label, clf.predict(df_double_feat),  pos_label='essential')))"
   ]
  },
  {
   "cell_type": "markdown",
   "id": "d368067a",
   "metadata": {},
   "source": [
    "# Test on multiple KOs"
   ]
  },
  {
   "cell_type": "code",
   "execution_count": null,
   "id": "8d17522d-98f5-40cc-9b7f-39b259feb32f",
   "metadata": {},
   "outputs": [],
   "source": [
    "df_multiple_test = pd.read_pickle('/home/ig13470/Documents/WCM_data/df_multiple_test_perms_final.pkl')\n",
    "df_multiple_test = df_multiple_test.drop_duplicates(subset='Combos')[['cellMass', 'growth', 'dnaMass', 'tRnaMass', 'extracellular_mass',\n",
    "       'proteinMass', 'projection_mass', 'pilus_mass', 'mRnaMass',\n",
    "       'smallMoleculeMass', 'membrane_mass']]\n"
   ]
  },
  {
   "cell_type": "code",
   "execution_count": null,
   "id": "a195980b",
   "metadata": {},
   "outputs": [],
   "source": [
    "cnf_multiple = confusion_matrix(df_multiple_label_test, clf.predict(df_multiple_test))\n",
    "disp = ConfusionMatrixDisplay(confusion_matrix=cnf_multiple,\n",
    "                               display_labels=['Deadly KO', 'Non-deadly KO'])\n",
    "print(cnf_multiple)\n",
    "disp.plot(cmap=colors, xticks_rotation='vertical', )\n",
    "disp.figure_.savefig('confusion_matrix_multipleKO_test_final.png', bbox_inches=\"tight\", dpi=600)\n",
    "\n",
    "\n",
    "print('F1 score for the multiple set is ' + str(f1_score(df_multiple_label_test, clf.predict(df_multiple_test),  pos_label='essential')))"
   ]
  },
  {
   "cell_type": "code",
   "execution_count": null,
   "id": "11914576-f705-4ac9-ad9e-b44e760011a2",
   "metadata": {},
   "outputs": [],
   "source": [
    "# save the model to disk\n",
    "filename = 'rf_model_surrogate_retrained_new.sav'\n",
    "pickle.dump(clf, open(filename, 'wb')) "
   ]
  },
  {
   "cell_type": "markdown",
   "id": "f6375a4a-7f00-4f70-89d0-046b8e32f16e",
   "metadata": {},
   "source": [
    "# Add more data to the training set as interations go along"
   ]
  },
  {
   "cell_type": "code",
   "execution_count": null,
   "id": "7ab27553-be25-47a7-b0c7-6fc192923cec",
   "metadata": {},
   "outputs": [],
   "source": [
    "df_multiple_train = pd.read_pickle('/home/ig13470/Documents/WCM_data/df_multiple_train_perms_final.pkl')\n",
    "\n",
    "df_multiple_train_st4_blue3 = pd.read_pickle('/home/ig13470/Documents/WCM_data/df_for_retraining_stage4_blue3.pkl')\n",
    "df_multiple_train_st4_red1 = pd.read_pickle('/home/ig13470/Documents/WCM_data/df_for_retraining_stage4_red1.pkl')\n",
    "df_multiple_train_st4_red3 = pd.read_pickle('/home/ig13470/Documents/WCM_data/df_for_retraining_stage4_red3.pkl')\n",
    "df_multiple_train_st4_yellow3 = pd.read_pickle('/home/ig13470/Documents/WCM_data/df_for_retraining_stage4_yellow3.pkl')\n",
    "\n",
    "df_multiple_train_st4 = pd.concat([df_multiple_train_st4_blue3, df_multiple_train_st4_red1, df_multiple_train_st4_red3, df_multiple_train_st4_yellow3])"
   ]
  },
  {
   "cell_type": "code",
   "execution_count": null,
   "id": "af80c7ec-c832-4e8f-836d-e3be22d5f2ce",
   "metadata": {},
   "outputs": [],
   "source": [
    "len(df_multiple_train_st4)"
   ]
  },
  {
   "cell_type": "code",
   "execution_count": null,
   "id": "a291bfbb-2731-4d67-89a1-eea5abfc84a9",
   "metadata": {},
   "outputs": [],
   "source": [
    "df_multiple_train = pd.concat([df_multiple_train, df_multiple_train_st4])"
   ]
  },
  {
   "cell_type": "code",
   "execution_count": null,
   "id": "4af2567f-7ce8-42a7-a65f-d9e32fe066cb",
   "metadata": {},
   "outputs": [],
   "source": [
    "df_multiple_train = df_multiple_train.rename(columns={\"label\": \"label_death\"})\n",
    "df_multiple_train = df_multiple_train[['cellMass', 'growth', 'dnaMass', 'tRnaMass', 'extracellular_mass',\n",
    "                                       'proteinMass', 'projection_mass', 'pilus_mass', 'mRnaMass',\n",
    "                                       'smallMoleculeMass', 'instantaniousGrowthRate', 'membrane_mass',\n",
    "                                        'label_death', 'cell_path']]"
   ]
  },
  {
   "cell_type": "code",
   "execution_count": null,
   "id": "87b3a2d6-0357-4696-bd78-746a26512440",
   "metadata": {},
   "outputs": [],
   "source": [
    "df_multiple_train = df_multiple_train[~df_multiple_train.isna().any(axis=1)]\n",
    "df_multiple_train['label_death'] = df_multiple_train['label_death'].replace({'not_deadly': 'non_essential', 'deadly_gene': 'essential'})\n"
   ]
  },
  {
   "cell_type": "code",
   "execution_count": null,
   "id": "905d2972-1d55-4391-bb8b-95fcf6557224",
   "metadata": {},
   "outputs": [],
   "source": [
    "from sklearn.model_selection import GroupShuffleSplit\n",
    "\n",
    "X = df_features.drop([ 'label', 'cell', 'seed', 'instantaniousGrowthRate',\n",
    "                       'label_lifetime', 'generation', 'gene_name'], axis=1)\n",
    "y=df_features.label_death.replace({'not_deadly': 'non_essential', 'deadly_gene': 'essential'})\n",
    "gs = GroupShuffleSplit(n_splits=1, train_size=0.8, random_state=6)\n",
    "\n",
    "gen = list(next(gs.split(X, y, groups=X.gene_id)))\n",
    "train_ix = gen[0]\n",
    "test_ix = gen[1]\n",
    "\n",
    "X_train = X.iloc[train_ix].drop(columns=['label_death'])\n",
    "y_train = y.iloc[train_ix]\n",
    "\n",
    "X_test = X.iloc[test_ix].drop(columns=['label_death'])\n",
    "y_test = y.iloc[test_ix]"
   ]
  },
  {
   "cell_type": "code",
   "execution_count": null,
   "id": "f81ace76-285b-4bba-8699-df314fb5c5a2",
   "metadata": {},
   "outputs": [],
   "source": [
    "df_multiple_X = df_multiple_train[['cellMass', 'growth', 'dnaMass', 'tRnaMass', 'extracellular_mass',\n",
    "       'proteinMass', 'projection_mass', 'pilus_mass', 'mRnaMass',\n",
    "       'smallMoleculeMass', 'membrane_mass']]\n",
    "df_multiple_y = df_multiple_train['label_death']"
   ]
  },
  {
   "cell_type": "code",
   "execution_count": null,
   "id": "b76bc881-2b3d-409e-a6f6-f11e251b4fcc",
   "metadata": {},
   "outputs": [],
   "source": [
    "from sklearn.utils import shuffle\n",
    "\n",
    "X_train = pd.concat([df_multiple_X, X_train])\n",
    "y_train = pd.concat([df_multiple_y, y_train])"
   ]
  },
  {
   "cell_type": "code",
   "execution_count": null,
   "id": "3825a1a9-3f60-482c-a6c2-0635a1012ce9",
   "metadata": {},
   "outputs": [],
   "source": [
    "y_train.value_counts()"
   ]
  },
  {
   "cell_type": "code",
   "execution_count": null,
   "id": "8709f395-63ef-4ab3-9b24-69a1cca6b9fb",
   "metadata": {},
   "outputs": [],
   "source": [
    "df_multiple_test = pd.read_pickle('/home/ig13470/Documents/WCM_data/df_multiple_test_perms_final.pkl')\n",
    "\n",
    "df_multiple_label_test = df_multiple_test['label'].replace({'not_deadly': 'non_essential', 'deadly_gene': 'essential'})\n",
    "df_multiple_test = df_multiple_test[['cellMass', 'growth', 'dnaMass', 'tRnaMass', 'extracellular_mass',\n",
    "       'proteinMass', 'projection_mass', 'pilus_mass', 'mRnaMass',\n",
    "       'smallMoleculeMass', 'membrane_mass']]"
   ]
  },
  {
   "cell_type": "code",
   "execution_count": null,
   "id": "a335bb24-563f-4200-a6d6-175a902c2dcc",
   "metadata": {
    "scrolled": true
   },
   "outputs": [],
   "source": [
    "from sklearn.ensemble import RandomForestClassifier\n",
    "from sklearn.metrics import confusion_matrix, ConfusionMatrixDisplay\n",
    "from sklearn.metrics import f1_score\n",
    "from sklearn.model_selection import GroupKFold\n",
    "from sklearn.linear_model import LogisticRegression\n",
    "import itertools\n",
    "\n",
    "tr_acc=[]\n",
    "test_single_acc= []\n",
    "test_multiple_acc = []\n",
    "hyperparams = []\n",
    "\n",
    "for x in itertools.product(list(range(2,20)), list(range(2,20))):\n",
    "    hyperparams.append(x)\n",
    "    clf = RandomForestClassifier(max_depth=x[0], n_estimators=x[1], random_state=14)\n",
    "    clf.fit(X_train.drop(columns=['cell_path', 'gene_id']), y_train)\n",
    "    \n",
    "    print('Confussion matrix for the training set')\n",
    "    cnf_tr = confusion_matrix(y_train, clf.predict(X_train.drop(columns=['cell_path', 'gene_id'])))\n",
    "    disp = ConfusionMatrixDisplay(confusion_matrix=cnf_tr,\n",
    "                                   display_labels=['Deadly KO', 'Non-deadly KO'])\n",
    "    \n",
    "    #disp.plot(cmap=colors, xticks_rotation='vertical')\n",
    "    #disp.figure_.savefig('confusion_matrix_training_retrained.png', bbox_inches=\"tight\", dpi=600)\n",
    "    #plt.show()\n",
    "    print('F1-score training ', f1_score(y_train, clf.predict(X_train.drop(columns=['cell_path', 'gene_id'])),  pos_label='essential'))\n",
    "    tr_acc.append(f1_score(y_train, clf.predict(X_train.drop(columns=['cell_path', 'gene_id'])),  pos_label='essential'))\n",
    "    print('confusion matrix for the test set')\n",
    "    cnf_test = confusion_matrix(y_test, clf.predict(X_test.drop(columns=['cell_path', 'gene_id'])))\n",
    "    disp = ConfusionMatrixDisplay(confusion_matrix=cnf_test,\n",
    "                                   display_labels=['Deadly KO', 'Non-deadly KO'])\n",
    "    \n",
    "    #disp.plot(cmap=colors, xticks_rotation='vertical')\n",
    "    #disp.figure_.savefig('confusion_matrix_test_retrained.png', bbox_inches=\"tight\", dpi=600)\n",
    "    #plt.show()\n",
    "    print('F1 score for the test set is ' + str(f1_score(y_test, clf.predict(X_test.drop(columns=['cell_path', 'gene_id'])),  pos_label='essential')))\n",
    "    test_single_acc.append(f1_score(y_test, clf.predict(X_test.drop(columns=['cell_path', 'gene_id'])),  pos_label='essential'))\n",
    "    \n",
    "    print('F1 score for the multiple set is ' + str(f1_score(df_multiple_label_test, clf.predict(df_multiple_test),  pos_label='essential')))\n",
    "    test_multiple_acc.append(f1_score(df_multiple_label_test, clf.predict(df_multiple_test),  pos_label='essential'))"
   ]
  },
  {
   "cell_type": "code",
   "execution_count": null,
   "id": "2551896b-b8d4-49e1-b7d2-8338cceb81c0",
   "metadata": {},
   "outputs": [],
   "source": [
    "index_max = np.argmax(test_multiple_acc)"
   ]
  },
  {
   "cell_type": "code",
   "execution_count": null,
   "id": "82316fb9-e561-4c5b-81ae-b14f992c2edb",
   "metadata": {},
   "outputs": [],
   "source": [
    "print(test_multiple_acc[index_max], test_single_acc[index_max], tr_acc[index_max])\n",
    "print(hyperparams[index_max])"
   ]
  },
  {
   "cell_type": "code",
   "execution_count": null,
   "id": "24c65a4a-aa67-4f9d-ba32-0674a1bdf266",
   "metadata": {
    "scrolled": true
   },
   "outputs": [],
   "source": [
    "from sklearn.ensemble import RandomForestClassifier\n",
    "from sklearn.metrics import confusion_matrix, ConfusionMatrixDisplay\n",
    "from sklearn.metrics import f1_score\n",
    "from sklearn.model_selection import GroupKFold\n",
    "from sklearn.linear_model import LogisticRegression\n",
    "import itertools\n",
    "\n",
    "tr_acc=[]\n",
    "test_single_acc= []\n",
    "test_multiple_acc = []\n",
    "hyperparams = []\n",
    "\n",
    "#for x in itertools.product(list(range(2,20)), list(range(2,20))):\n",
    "clf = RandomForestClassifier(max_depth=3, n_estimators=16, random_state=14)\n",
    "clf.fit(X_train.drop(columns=['cell_path', 'gene_id']), y_train)\n",
    "\n",
    "print('Confussion matrix for the training set')\n",
    "cnf_tr = confusion_matrix(y_train, clf.predict(X_train.drop(columns=['cell_path', 'gene_id'])))\n",
    "disp = ConfusionMatrixDisplay(confusion_matrix=cnf_tr,\n",
    "                               display_labels=['Deadly KO', 'Non-deadly KO'])\n",
    "\n",
    "disp.plot(cmap=colors, xticks_rotation='vertical')\n",
    "disp.figure_.savefig('confusion_matrix_training_retrained.png', bbox_inches=\"tight\", dpi=600)\n",
    "plt.show()\n",
    "print('F1-score training ', f1_score(y_train, clf.predict(X_train.drop(columns=['cell_path', 'gene_id'])),  pos_label='essential'))\n",
    "tr_acc.append(f1_score(y_train, clf.predict(X_train.drop(columns=['cell_path', 'gene_id'])),  pos_label='essential'))\n",
    "print('confusion matrix for the test set')\n",
    "cnf_test = confusion_matrix(y_test, clf.predict(X_test.drop(columns=['cell_path', 'gene_id'])))\n",
    "disp = ConfusionMatrixDisplay(confusion_matrix=cnf_test,\n",
    "                               display_labels=['Deadly KO', 'Non-deadly KO'])\n",
    "\n",
    "disp.plot(cmap=colors, xticks_rotation='vertical')\n",
    "disp.figure_.savefig('confusion_matrix_test_retrained.png', bbox_inches=\"tight\", dpi=600)\n",
    "plt.show()\n",
    "print('F1 score for the test set is ' + str(f1_score(y_test, clf.predict(X_test.drop(columns=['cell_path', 'gene_id'])),  pos_label='essential')))\n",
    "test_single_acc.append(f1_score(y_test, clf.predict(X_test.drop(columns=['cell_path', 'gene_id'])),  pos_label='essential'))\n",
    "\n",
    "print('F1 score for the multiple set is ' + str(f1_score(df_multiple_label_test, clf.predict(df_multiple_test),  pos_label='essential')))\n",
    "test_multiple_acc.append(f1_score(df_multiple_label_test, clf.predict(df_multiple_test),  pos_label='essential'))"
   ]
  },
  {
   "cell_type": "code",
   "execution_count": null,
   "id": "006a60b3-a62e-424a-9502-70ddaaecdc64",
   "metadata": {
    "scrolled": true
   },
   "outputs": [],
   "source": [
    "cnf_multiple = confusion_matrix(df_multiple_label_test, clf.predict(df_multiple_test))\n",
    "disp = ConfusionMatrixDisplay(confusion_matrix=cnf_multiple,\n",
    "                               display_labels=['Deadly KO', 'Non-deadly KO'])\n",
    "print(cnf_multiple)\n",
    "disp.plot(cmap=colors, xticks_rotation='vertical', )\n",
    "disp.figure_.savefig('confusion_matrix_multipleKO_test_final.png', bbox_inches=\"tight\", dpi=600)\n",
    "\n",
    "\n",
    "print('F1 score for the multiple set is ' + str(f1_score(df_multiple_label_test, clf.predict(df_multiple_test),  pos_label='essential')))"
   ]
  },
  {
   "cell_type": "code",
   "execution_count": null,
   "id": "6d03e120-2268-4fad-b04a-6876070e0ad5",
   "metadata": {},
   "outputs": [],
   "source": [
    "# save the model to disk\n",
    "filename = 'rf_model_surrogate_retrained_stage4.sav'\n",
    "pickle.dump(clf, open(filename, 'wb')) "
   ]
  },
  {
   "cell_type": "code",
   "execution_count": null,
   "id": "f2959dfd-53f9-4f3d-97b8-dab047a7bbbe",
   "metadata": {},
   "outputs": [],
   "source": []
  },
  {
   "cell_type": "code",
   "execution_count": null,
   "id": "d3c251b9-d004-4567-9c91-64ac0d1ba4fa",
   "metadata": {},
   "outputs": [],
   "source": []
  },
  {
   "cell_type": "code",
   "execution_count": null,
   "id": "e27d1ddf-25fb-4d17-923b-26406eb9d25a",
   "metadata": {},
   "outputs": [],
   "source": []
  }
 ],
 "metadata": {
  "kernelspec": {
   "display_name": "Python 3 (ipykernel)",
   "language": "python",
   "name": "python3"
  },
  "language_info": {
   "codemirror_mode": {
    "name": "ipython",
    "version": 3
   },
   "file_extension": ".py",
   "mimetype": "text/x-python",
   "name": "python",
   "nbconvert_exporter": "python",
   "pygments_lexer": "ipython3",
   "version": "3.8.5"
  }
 },
 "nbformat": 4,
 "nbformat_minor": 5
}
