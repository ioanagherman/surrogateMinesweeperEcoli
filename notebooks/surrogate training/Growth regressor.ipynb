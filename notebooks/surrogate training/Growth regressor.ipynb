{
 "cells": [
  {
   "cell_type": "code",
   "execution_count": null,
   "id": "03f255c6-c6d0-42a0-8875-9c43ea64189b",
   "metadata": {},
   "outputs": [],
   "source": [
    "import pandas as pd\n",
    "\n",
    "import matplotlib.pyplot as plt\n",
    "import seaborn as sns\n",
    "import numpy as np\n",
    "import matplotlib.pyplot as plt\n",
    "plt.rcParams[\"font.family\"] = \"DejaVu Sans\"\n",
    "\n",
    "from sklearn.preprocessing import StandardScaler, MinMaxScaler\n",
    "from sklearn.model_selection import train_test_split\n",
    "from sklearn.linear_model import LinearRegression\n",
    "from sklearn.ensemble import RandomForestRegressor\n",
    "from sklearn.metrics import mean_squared_error, mean_absolute_error, r2_score\n",
    "from sklearn.model_selection import cross_val_score, RandomizedSearchCV\n",
    "from xgboost import XGBRegressor\n",
    "from sklearn.svm import SVR\n"
   ]
  },
  {
   "cell_type": "code",
   "execution_count": null,
   "id": "6f892fb9-b160-4aca-8290-23b8bf914c96",
   "metadata": {},
   "outputs": [],
   "source": [
    "df = pd.read_pickle('df_growth.pkl')"
   ]
  },
  {
   "cell_type": "code",
   "execution_count": null,
   "id": "f7206550-5e22-4beb-bd41-fa6762d02aad",
   "metadata": {},
   "outputs": [],
   "source": [
    "mass_cols = ['cellMass', 'growth', 'dnaMass', 'tRnaMass', 'extracellular_mass',\n",
    "       'proteinMass', 'projection_mass', 'pilus_mass', 'mRnaMass',\n",
    "       'smallMoleculeMass', 'instantaniousGrowthRate', 'membrane_mass']"
   ]
  },
  {
   "cell_type": "code",
   "execution_count": null,
   "id": "9cfae321-1770-4d91-a24d-c504ff468a7b",
   "metadata": {},
   "outputs": [],
   "source": [
    "df.head()"
   ]
  },
  {
   "cell_type": "code",
   "execution_count": null,
   "id": "abfd2b03-671e-46a3-b80c-804cbd649c9f",
   "metadata": {},
   "outputs": [],
   "source": [
    "train_genes = ['pntA', 'rpmB', 'aroG', 'pyrF', 'pyrC', 'yjeH', 'dxs', 'nanK', 'lacY', 'tppB', 'dhaL', 'gabT', 'emrE', 'sgbU', 'glxK', 'gcvP', \n",
    "               'pyrG', 'bioF', 'argA', 'purB', 'rplT', 'ileS', 'ppa', 'glcE', 'glyS', 'cdh', 'rpmH', 'rpiA', 'hisG', 'pyrB', 'csdA', 'ybbO', \n",
    "               'kdsC', 'leuC', 'frdA', 'rpsB', 'epmB', 'sucD', 'prpD', 'orn', 'entD', 'aceE', 'argT', 'atpE', 'nanA', 'frlB', 'mpaA', 'rpoC', \n",
    "               'folE', 'potG', 'rpsA', 'metB', 'iscS', 'waaB', 'guaA', 'rplK', 'hisF', 'rcnA', 'argC', 'rpsK', 'thiL', 'ribB', 'menE', 'rpsO', \n",
    "               'sucB', 'nhaA', 'pykA', 'araE', 'rplX', 'rpsJ', 'dfp', 'argS', 'aroE', 'araB', 'yliI', 'rpsU', 'cysK', 'fkpA', 'atpH', 'tyrP', \n",
    "               'cpsG', 'ybgT', 'ispU', 'aroF', 'fumA', 'paaC', 'cysM', 'atpB', 'livJ', 'argB', 'ompF', 'fadE', 'rdgB', 'aroH', 'argR', 'hisS', \n",
    "               'malP', 'purU', 'rhaD', 'rplI', 'visC', 'purH', 'dcuR', 'msbA', 'thrC', 'rplP', 'fabG', 'cysI', 'pyrH', 'gltA', 'rpsH', 'yeiG', \n",
    "               'nudF', 'alr', 'cysC', 'paaA', 'ulaF', 'accA', 'rpsN', 'cysN', 'tyrB', 'nadR', 'cheR', 'dcuB', 'argD', 'cysG', 'glmU', 'nikA', \n",
    "               'argI', 'carB', 'truC', 'yjhH', 'talB', 'azoR', 'hisB', 'appB', 'leuD', 'kdsD', 'purF', 'rpmI', 'astA', 'sbmA', 'rpsS', 'bioB', \n",
    "               'arcA', 'cpdA', 'glnH', 'rnb', 'ugpQ', 'yfaU', 'xdhB', 'tnaA', 'uacT', 'etp', 'gltL', 'rpsI', 'potI', 'aspA', 'glyA', 'araC', \n",
    "               'dapB', 'leuB', 'purK', 'trpC', 'puuP', 'gmhB', 'serS', 'glk', 'hisC', 'rihB', 'dapE', 'rplD', 'rpsG', 'cadB', 'idnO', 'lsrA', \n",
    "               'rpsD', 'ispD', 'bglJ', 'rpsC', 'maeB', 'nirC', 'ybjI', 'aroK', 'glyQ', 'slyD', 'cysJ', 'dapA', 'ttdB', 'ispB', 'asd', 'ilvE', \n",
    "               'rpmF', 'asnS', 'hisD', 'yddG', 'prmC', 'ndk', 'xylB', 'gltK', 'alaE', 'ybcF', 'pheA', 'ackA', 'cdsA', 'ppsA', 'scpB', 'pstA', \n",
    "               'purL', 'pfkB', 'ydbK', 'dgoA', 'ilvD', 'serC', 'alaS', 'gltX', 'dkgA', 'prs', 'trpA', 'cyoE', 'araG', 'gpmA', 'trpD', 'fmt', \n",
    "               'yfbR', 'proS', 'lptG', 'aceA', 'oppB', 'asnA', 'cdd', 'purA', 'rplR', 'coaE', 'rfaD', 'cytR', 'hisH', 'cysQ', 'rplL', 'nadC', \n",
    "               'cysP', 'amn', 'birA', 'thrS', 'nuoG', 'bisC', 'yihX', 'yrfG', 'aspS', 'cysS', 'rplF', 'rpsE', 'ulaD', 'aroC', 'deoC', 'lldD', \n",
    "               'ddlB', 'proW', 'lptA', 'garL', 'rpsF', 'potH', 'tilS', 'guaB', 'aat', 'gmk', 'appA', 'cysD', 'betA', 'rplY', 'leuS', 'xanQ', \n",
    "               'bglF', 'aroA', 'argE', 'apaH', 'aphA', 'pgl', 'adhP', 'manA', 'fes', 'apt', 'gntP', 'ytfG', 'ulaE', 'purE', 'yhbO', 'dppD', \n",
    "               'rpsT', 'metA', 'thyA', 'trxB', 'tolB', 'folB', 'aroL', 'murJ', 'cysH', 'rpmC', 'atpC', 'rplN', 'hisM', 'dxr', 'argG', 'ansA', \n",
    "               'nupC', 'rpsR', 'bioD', 'atpD', 'trpR', 'rpoA', 'rutG', 'lplA', 'yciA', 'miaB', 'alsE', 'waaA', 'bioA', 'xylA', 'mltC', 'araA', \n",
    "               'pheS', 'bioC', 'thrB', 'lpxH', 'crp', 'ansB', 'trpE', 'frlD', 'rplU', 'tyrA', 'gsk', 'dapD', 'atpA', 'cysU', 'eutB', 'rplB', \n",
    "               'rpoB', 'rpe', 'carA', 'ybaS', 'rplE', 'aceB', 'rhaA', 'fumC', 'cadA', 'zwf', 'mgsA', 'hisA', 'nuoH', 'pyrE', 'corA', 'rplQ', \n",
    "               'glnA', 'adk', 'dppB', 'purM', 'rpmA', 'rpmJ', 'speG', 'lpxL', 'folP', 'can', 'gadB', 'nhoA', 'rihC', 'rplV', 'atpG', 'cysE', \n",
    "               'luxS']\n",
    "\n",
    "test_genes = ['ade', 'maa', 'fdnG', 'pdxY', 'rpsP', 'fklB', 'bioH', 'cysW', 'metG', 'araD', 'idnD', 'avtA', 'yiaY', 'nagD', 'rplS', 'cycA', \n",
    "              'rplC', 'yigL', 'rpsQ', 'metN', 'pgm', 'nanE', 'lptF', 'rpmE', 'glcA', 'rplM', 'tyrS', 'livG', 'aroD', 'rplO', 'astB', 'rplJ', \n",
    "              'aspC', 'rpsM', 'fucK', 'valS', 'cydC', 'yejE', 'sthA', 'araH', 'panC', 'rpmG', 'leuA', 'deoB', 'ilvC', 'nikD', 'rplW', 'proC', \n",
    "              'panE', 'adhE', 'betT', 'tmk', 'pyrD', 'puuC', 'araF', 'dapF', 'treF', 'nrdB', 'uxuB', 'sra', 'rpmD', 'dhaK', 'cpsB', 'aroB', \n",
    "              'asnB', 'lptC', 'purD', 'metF', 'trpS', 'argH', 'aroP', 'cysA', 'add', 'aldA', 'pyrI', 'glnS', 'aceF', 'malZ', 'purC', 'paaB', \n",
    "              'cyoA', 'rpsL', 'gatY', 'rplA', 'mak', 'potB', 'ycaO', 'betB', 'pheT', 'lysA', 'atpF', 'hisI', 'ygaH'\n",
    "]"
   ]
  },
  {
   "cell_type": "code",
   "execution_count": null,
   "id": "71a4b6f9-7ba4-4dd6-ad5d-0bb4db2b009d",
   "metadata": {},
   "outputs": [],
   "source": [
    "df = df.drop_duplicates(subset=[\"seed\",\"gene_id\"], keep=\"last\")[df['seed'].isin(['000000', '000001'])]\n"
   ]
  },
  {
   "cell_type": "code",
   "execution_count": null,
   "id": "7df6cae2-0d90-473b-91b1-8f31d5d45333",
   "metadata": {},
   "outputs": [],
   "source": [
    "X_train = df[(df['gene_id'].isin(train_genes))][mass_cols]\n",
    "y_train = df[(df['gene_id'].isin(train_genes))]['average_growth']*3600\n",
    "\n",
    "X_test = df[(df['gene_id'].isin(test_genes))][mass_cols]\n",
    "y_test = df[(df['gene_id'].isin(test_genes))]['average_growth']*3600"
   ]
  },
  {
   "cell_type": "code",
   "execution_count": null,
   "id": "8bb44a9a-8a5d-4fe1-8282-1ffd26268096",
   "metadata": {},
   "outputs": [],
   "source": [
    "print(len(X_train), len(X_test))"
   ]
  },
  {
   "cell_type": "code",
   "execution_count": null,
   "id": "9267d0c1-f0fe-4b9a-ad47-056ed57852ff",
   "metadata": {},
   "outputs": [],
   "source": [
    "186/2"
   ]
  },
  {
   "cell_type": "code",
   "execution_count": null,
   "id": "75cda6b3-8299-43de-ab1b-fdd59caabb4f",
   "metadata": {},
   "outputs": [],
   "source": [
    "# Plot histogram\n",
    "fig, (ax1, ax2) = plt.subplots(1, 2, figsize=(6, 3))\n",
    "\n",
    "ax1.hist(y_train, bins=30)\n",
    "ax2.hist(y_test, bins=30)\n",
    "\n",
    "ax1.set(xlabel='Average growth rate \\n in the training set (1/hr)')\n",
    "ax2.set(xlabel='Average growth rate \\n in the test set (1/hr)')\n",
    "fig.tight_layout()\n",
    "fig.savefig('y_distrib.pdf', dpi=500)\n",
    "plt.show()\n",
    "\n"
   ]
  },
  {
   "cell_type": "code",
   "execution_count": null,
   "id": "e482933a-bce6-491e-a618-6f2c7c6abbd6",
   "metadata": {},
   "outputs": [],
   "source": [
    "X_train"
   ]
  },
  {
   "cell_type": "code",
   "execution_count": null,
   "id": "d6f20c03-70ff-4070-a229-d3e9a0a77312",
   "metadata": {},
   "outputs": [],
   "source": [
    "# Replace strings with float\n",
    "import re\n",
    "X_train = X_train.applymap(lambda x: re.sub(r'[^0-9.-]', '', str(x)) if isinstance(x, str) else x)\n",
    "X_train = X_train.apply(pd.to_numeric, errors='coerce')\n",
    "\n",
    "y_train = y_train.apply(lambda x: re.sub(r'[^0-9.-]', '', str(x)) if isinstance(x, str) else x)\n",
    "y_train = pd.to_numeric(y_train, errors='coerce')\n",
    "\n",
    "X_test = X_test.applymap(lambda x: re.sub(r'[^0-9.-]', '', str(x)) if isinstance(x, str) else x)\n",
    "X_test = X_test.apply(pd.to_numeric, errors='coerce')\n",
    "\n",
    "y_test = y_test.apply(lambda x: re.sub(r'[^0-9.-]', '', str(x)) if isinstance(x, str) else x)\n",
    "y_test = pd.to_numeric(y_test, errors='coerce')"
   ]
  },
  {
   "cell_type": "code",
   "execution_count": null,
   "id": "63cea4bd-a047-401f-838b-c1d722d71dc0",
   "metadata": {},
   "outputs": [],
   "source": [
    "# Replace nan with zero because that means there was no growth\n",
    "X_train.fillna(0, inplace=True)\n",
    "X_test.fillna(0, inplace=True)\n",
    "\n",
    "y_train.fillna(0, inplace=True)\n",
    "y_test.fillna(0, inplace=True)"
   ]
  },
  {
   "cell_type": "code",
   "execution_count": null,
   "id": "5d1e7133-3719-4c5e-8e0b-4a121ee9be1f",
   "metadata": {},
   "outputs": [],
   "source": [
    "#Standardise the data\n",
    "scaler = StandardScaler() \n",
    "X_train = scaler.fit_transform(X_train)  \n",
    "X_test = scaler.transform(X_test)  "
   ]
  },
  {
   "cell_type": "code",
   "execution_count": null,
   "id": "76b037ae-00f1-4765-aabf-e7f5b8d23092",
   "metadata": {},
   "outputs": [],
   "source": [
    "def evaluate_model(y_true, y_pred, dataset_name):\n",
    "    \"\"\"This method is used to compute different performance metrics for \n",
    "    different regression algorithms\"\"\"\n",
    "    \n",
    "    mse = mean_squared_error(y_true, y_pred)\n",
    "    rmse = np.sqrt(mse)\n",
    "    mae = mean_absolute_error(y_true, y_pred)\n",
    "    r2 = r2_score(y_true, y_pred)\n",
    "    \n",
    "    print(f\" {dataset_name} Set Performance:\")\n",
    "    print(f\"   MSE: {mse:.10f}\")\n",
    "    print(f\"   RMSE: {rmse:.10f}\")\n",
    "    print(f\"   MAE: {mae:.10f}\")\n",
    "    print(f\"   R² Score: {r2:.4f}\")\n",
    "    print(\"--------------------------------------------------\")\n",
    "\n",
    "def r2_gap_and_maximize_test_r2(estimator, X_train, X_test, y_train, y_test):\n",
    "    \"\"\"\n",
    "    This method creates a score that has to be maximised that combines the R2 test and minimise\n",
    "    the gap between the test and train R2 to reduce overfitting\n",
    "    \"\"\"\n",
    "    y_train_pred = estimator.predict(X_train)\n",
    "    y_test_pred = estimator.predict(X_test)\n",
    "\n",
    "    r2_train = r2_score(y_train, y_train_pred)\n",
    "    r2_test = r2_score(y_test, y_test_pred)\n",
    "\n",
    "    r2_gap = abs(r2_train - r2_test)\n",
    "\n",
    "    return r2_test - r2_gap  # Higher is better (scikit-learn maximizes scores)\n",
    "\n",
    "class CustomR2Scorer:\n",
    "    def __init__(self, X_train, X_test, y_train, y_test):\n",
    "        self.X_train = X_train\n",
    "        self.X_test = X_test\n",
    "        self.y_train = y_train\n",
    "        self.y_test = y_test\n",
    "\n",
    "    def scorer(self, estimator, X, y):\n",
    "        return r2_gap_and_maximize_test_r2(estimator, self.X_train, self.X_test, self.y_train, self.y_test)\n",
    "\n",
    "# Initialize custom scorer with train & test data\n",
    "custom_scorer = CustomR2Scorer(X_train, X_test, y_train, y_test).scorer"
   ]
  },
  {
   "cell_type": "code",
   "execution_count": null,
   "id": "97ee5b96-4924-46c6-8dad-dfc0d5bb0dc8",
   "metadata": {},
   "outputs": [],
   "source": [
    "# Different parameters to be tried for different regression algorithms\n",
    "\n",
    "param_grids = {\n",
    "   \"Random Forest\": {\n",
    "    'n_estimators': [5, 10, 20, 30, 100], \n",
    "    'max_depth': [2, 3, 5, 10, 15, 20],  \n",
    "    'min_samples_split': [2, 5, 10, 15, 20, 30, 40, 60],  \n",
    "    'min_samples_leaf': [2, 5, 10, 15, 20],  \n",
    "    'max_features': ['sqrt', 'log2'],  \n",
    "    'bootstrap': [True, False]  \n",
    "},\n",
    "\n",
    "    \"XGBoost\": {\n",
    "        'n_estimators': [ 50, 100, 300, 500],\n",
    "        'learning_rate': [0.01, 0.02, 0.05],\n",
    "        'max_depth': [2, 3, 5, 10, 15, 20],\n",
    "        'colsample_bytree': [0.7, 1.0],\n",
    "        'subsample': [0.8, 1.0],\n",
    "        'reg_alpha': [0.1],  # L1 Regularization\n",
    "        'reg_lambda': [0.5]  # L2 Regularization\n",
    "\n",
    "    },\n",
    "    \n",
    "    \"Linear Regression\": {}  \n",
    "    }"
   ]
  },
  {
   "cell_type": "code",
   "execution_count": null,
   "id": "43585c2b-23e6-41fb-b66b-381b859b45e8",
   "metadata": {},
   "outputs": [],
   "source": [
    "models = {\n",
    "    \"Random Forest\": RandomForestRegressor(random_state=42),\n",
    "    \"XGBoost\": XGBRegressor(random_state=42),\n",
    "    \"Linear Regression\": LinearRegression()\n",
    "}\n",
    "\n",
    "tuned_models = {}\n",
    "\n",
    "for name, model in models.items():\n",
    "    # Skip tuning for Linear Regression\n",
    "    if name == \"Linear Regression\":\n",
    "        tuned_models[name] = model.fit(X_train, y_train)\n",
    "        continue\n",
    "\n",
    "    # Find the combination of parameters that optimise the function we defined, minimizing the\n",
    "    # difference between the test and train R2 and maximising the test R2\n",
    "    search = RandomizedSearchCV(\n",
    "        model,\n",
    "        param_distributions=param_grids[name],\n",
    "        n_iter=100,  # Number of random trials\n",
    "        scoring=custom_scorer,\n",
    "        cv=5,  # 5-fold cross-validation\n",
    "        random_state=42,\n",
    "        n_jobs=-1\n",
    "    )\n",
    "    \n",
    "    search.fit(X_train, y_train)\n",
    "    tuned_models[name] = search.best_estimator_\n",
    "\n",
    "    print(f\"Best Parameters for {name}: {search.best_params_}\")\n"
   ]
  },
  {
   "cell_type": "code",
   "execution_count": null,
   "id": "3c6db4d4-9fa9-4402-85df-a0d82746ecc4",
   "metadata": {},
   "outputs": [],
   "source": [
    "results = {}\n",
    "\n",
    "for name, model in tuned_models.items():\n",
    "\n",
    "    # Predict\n",
    "    y_train_pred = model.predict(X_train)\n",
    "    y_test_pred = model.predict(X_test)\n",
    "\n",
    "    # Compute metrics\n",
    "    mse_train = mean_squared_error(y_train, y_train_pred)\n",
    "    mse_test = mean_squared_error(y_test, y_test_pred)\n",
    "    mae_train = mean_absolute_error(y_train, y_train_pred)\n",
    "    mae_test = mean_absolute_error(y_test, y_test_pred)\n",
    "    r2_train = r2_score(y_train, y_train_pred)\n",
    "    r2_test = r2_score(y_test, y_test_pred)\n",
    "\n",
    "    # Store results\n",
    "    results[name] = {\n",
    "        \"MSE Train\": mse_train,\n",
    "        \"MSE Test\": mse_test,\n",
    "        \"MAE train\": mae_train,\n",
    "        \"MAE Test\": mae_test,\n",
    "        \"R² Train\": r2_train,\n",
    "        \"R² Test\": r2_test\n",
    "    }\n",
    "\n",
    "    # Print Results\n",
    "    print(f\" {name} Performance:\")\n",
    "    print(f\"   MSE (Train): {mse_train:.5f}\")\n",
    "    print(f\"   MSE (Test): {mse_test:.5f}\")\n",
    "    print(f\"   MAE (Train): {mae_train:.5f}\")\n",
    "    print(f\"   MAE (Test): {mae_test:.5f}\")\n",
    "    print(f\"   R² (Train): {r2_train:.4f}\")\n",
    "    print(f\"   R² (Test): {r2_test:.4f}\")\n",
    "    print(\"-\" * 60)"
   ]
  },
  {
   "cell_type": "code",
   "execution_count": null,
   "id": "ec44d3db-a4f9-41bc-ba0d-5a0a975a023e",
   "metadata": {},
   "outputs": [],
   "source": []
  },
  {
   "cell_type": "code",
   "execution_count": null,
   "id": "79c96cb4-7362-48b4-8fc9-e2e142035161",
   "metadata": {},
   "outputs": [],
   "source": []
  },
  {
   "cell_type": "code",
   "execution_count": null,
   "id": "58c5df61-bd72-44ee-b79a-2f66e667de3d",
   "metadata": {},
   "outputs": [],
   "source": []
  },
  {
   "cell_type": "code",
   "execution_count": null,
   "id": "dc00fa03-812b-41fe-8b0c-f93b57f6021d",
   "metadata": {},
   "outputs": [],
   "source": []
  }
 ],
 "metadata": {
  "kernelspec": {
   "display_name": "Python 3 (ipykernel)",
   "language": "python",
   "name": "python3"
  },
  "language_info": {
   "codemirror_mode": {
    "name": "ipython",
    "version": 3
   },
   "file_extension": ".py",
   "mimetype": "text/x-python",
   "name": "python",
   "nbconvert_exporter": "python",
   "pygments_lexer": "ipython3",
   "version": "3.8.5"
  }
 },
 "nbformat": 4,
 "nbformat_minor": 5
}
